{
 "cells": [
  {
   "cell_type": "markdown",
   "id": "6bb132fa",
   "metadata": {
    "id": "401fba3a"
   },
   "source": [
    "# Détection de faux Billets \n"
   ]
  },
  {
   "cell_type": "markdown",
   "id": "9a492b09",
   "metadata": {},
   "source": [
    "## Initialisation"
   ]
  },
  {
   "cell_type": "code",
   "execution_count": 1,
   "id": "16626c27",
   "metadata": {
    "id": "16626c27"
   },
   "outputs": [],
   "source": [
    "import pandas as pd\n",
    "import matplotlib.pyplot as plt\n",
    "from matplotlib.collections import LineCollection\n",
    "import seaborn as sns\n",
    "import plotly.express as px\n",
    "import numpy as np\n",
    "import warnings\n",
    "from datetime import date \n",
    "\n",
    "from sklearn.preprocessing import StandardScaler\n",
    "from sklearn.preprocessing import RobustScaler\n",
    "\n",
    "from sklearn.decomposition import PCA\n",
    "from sklearn.cluster import KMeans\n",
    "\n",
    "from sklearn.linear_model import LinearRegression\n",
    "from sklearn.preprocessing import LabelEncoder\n",
    "from sklearn.linear_model import LogisticRegression\n",
    "\n",
    "from sklearn import preprocessing, svm\n",
    "from sklearn.model_selection import train_test_split\n",
    "from sklearn.metrics import accuracy_score\n",
    "from sklearn.metrics import confusion_matrix, ConfusionMatrixDisplay\n",
    "\n",
    "from statsmodels.stats.outliers_influence import variance_inflation_factor\n",
    "from statsmodels.compat import lzip\n",
    "import statsmodels.stats.api as sms\n",
    "\n",
    "\n",
    "warnings.filterwarnings('ignore')"
   ]
  },
  {
   "cell_type": "code",
   "execution_count": 2,
   "id": "bf57c17b",
   "metadata": {
    "id": "bf57c17b"
   },
   "outputs": [],
   "source": [
    "# fonctions pour l'ACP\n",
    "def correlation_graph(pca, \n",
    "                      x_y, \n",
    "                      features) : \n",
    "    \"\"\"Affiche le graphe des correlations\n",
    "\n",
    "    Positional arguments : \n",
    "    -----------------------------------\n",
    "    pca : sklearn.decomposition.PCA : notre objet PCA qui a été fit\n",
    "    x_y : list ou tuple : le couple x,y des plans à afficher, exemple [0,1] pour F1, F2\n",
    "    features : list ou tuple : la liste des features (ie des dimensions) à représenter\n",
    "    \"\"\"\n",
    "\n",
    "    # Extrait x et y \n",
    "    x,y=x_y\n",
    "\n",
    "    # Taille de l'image (en inches)\n",
    "    fig, ax = plt.subplots(figsize=(10, 9))\n",
    "\n",
    "    # Pour chaque composante : \n",
    "    for i in range(0, pca.components_.shape[1]):\n",
    "\n",
    "        # Les flèches\n",
    "        ax.arrow(0,0, \n",
    "                pca.components_[0, i],  \n",
    "                pca.components_[1, i],  \n",
    "                head_width=0.07,\n",
    "                head_length=0.07, \n",
    "                width=0.02, )\n",
    "\n",
    "        # Les labels\n",
    "        plt.text(pca.components_[0, i] + 0.05,\n",
    "                pca.components_[1, i] + 0.05,\n",
    "                features[i])\n",
    "        \n",
    "    # Affichage des lignes horizontales et verticales\n",
    "    plt.plot([-1, 1], [0, 0], color='grey', ls='--')\n",
    "    plt.plot([0, 0], [-1, 1], color='grey', ls='--')\n",
    "\n",
    "    # Nom des axes, avec le pourcentage d'inertie expliqué\n",
    "    plt.xlabel('F{} ({}%)'.format(x+1, round(100*pca.explained_variance_ratio_[x],1)))\n",
    "    plt.ylabel('F{} ({}%)'.format(y+1, round(100*pca.explained_variance_ratio_[y],1)))\n",
    "\n",
    "    \n",
    "    plt.title(\"Cercle des corrélations (F{} et F{})\".format(x+1, y+1))\n",
    "\n",
    "    # Le cercle \n",
    "    an = np.linspace(0, 2 * np.pi, 100)\n",
    "    plt.plot(np.cos(an), np.sin(an))  # Add a unit circle for scale\n",
    "\n",
    "    # Axes et display\n",
    "    plt.axis('equal')\n",
    "    plt.show(block=False)\n",
    "\n",
    "\n",
    "\n",
    "def display_factorial_planes(   X_projected, \n",
    "                                x_y, \n",
    "                                pca=None, \n",
    "                                labels = None,\n",
    "                                clusters=None, \n",
    "                                alpha=1,\n",
    "                                figsize=[10,8], \n",
    "                                marker=\".\" ):\n",
    "    \"\"\"\n",
    "    Affiche la projection des individus\n",
    "\n",
    "    Positional arguments : \n",
    "    -------------------------------------\n",
    "    X_projected : np.array, pd.DataFrame, list of list : la matrice des points projetés\n",
    "    x_y : list ou tuple : le couple x,y des plans à afficher, exemple [0,1] pour F1, F2\n",
    "\n",
    "    Optional arguments : \n",
    "    -------------------------------------\n",
    "    pca : sklearn.decomposition.PCA : un objet PCA qui a été fit, cela nous permettra d'afficher la variance de chaque composante, default = None\n",
    "    labels : list ou tuple : les labels des individus à projeter, default = None\n",
    "    clusters : list ou tuple : la liste des clusters auquel appartient chaque individu, default = None\n",
    "    alpha : float in [0,1] : paramètre de transparence, 0=100% transparent, 1=0% transparent, default = 1\n",
    "    figsize : list ou tuple : couple width, height qui définit la taille de la figure en inches, default = [10,8] \n",
    "    marker : str : le type de marker utilisé pour représenter les individus, points croix etc etc, default = \".\"\n",
    "    \"\"\"\n",
    "\n",
    "    # Transforme X_projected en un df\n",
    "    X_ = pd.DataFrame(X_projected)\n",
    "    \n",
    "    # On définit la forme de la figure si elle n'a pas été donnée\n",
    "    if not figsize: \n",
    "        figsize = (7,6)\n",
    "\n",
    "    # On vérifie la variable axis \n",
    "    if not len(x_y) ==2 : \n",
    "        raise AttributeError(\"2 axes sont demandées\")   \n",
    "    if max(x_y )>= X_.shape[1] : \n",
    "        raise AttributeError(\"la variable axis n'est pas bonne\")   \n",
    "\n",
    "    # On définit x et y \n",
    "    x, y = x_y\n",
    "\n",
    "    # Initialisation de la figure       \n",
    "    fig, ax = plt.subplots(1, 1, figsize=figsize)\n",
    "    \n",
    "    # On rajoute la color, les clusters et les labels à X_\n",
    "    X_[\"clusters\"] =  clusters if clusters is not None else \"None\" \n",
    "    X_[\"labels\"] =  labels if labels is not None else \"None\"\n",
    "    c_unique_list = X_[\"clusters\"].sort_values().unique()\n",
    "    c_dict = {j:i+1 for i, j in enumerate(c_unique_list)}\n",
    "    X_[\"colors\"] = X_[\"clusters\"].apply(lambda i : c_dict[i])\n",
    "\n",
    "    # Pour chaque couleur / cluster\n",
    "    for c in sorted(X_.clusters.unique()) : \n",
    "        # On selectionne le sous DF\n",
    "        sub_X =X_.loc[X_.clusters == c, : ]\n",
    "\n",
    "        # Clusters and color\n",
    "        cluster = sub_X.clusters.iloc[0]\n",
    "        color = sub_X.colors.iloc[0]\n",
    "\n",
    "        # On affiche les points\n",
    "        ax.scatter(    sub_X.iloc[:, x], \n",
    "                        sub_X.iloc[:, y], \n",
    "                        alpha=alpha, \n",
    "                        label = cluster ,\n",
    "                        cmap=\"Set1\", \n",
    "                        marker=marker)\n",
    "        \n",
    "    # Si la variable pca a été fournie, on peut calculer le % de variance de chaque axe \n",
    "    if pca : \n",
    "        v1 = str(round(100*pca.explained_variance_ratio_[x]))  + \" %\"\n",
    "        v2 = str(round(100*pca.explained_variance_ratio_[y]))  + \" %\"\n",
    "    else : \n",
    "        v1=v2= ''\n",
    "\n",
    "    # Nom des axes, avec le pourcentage d'inertie expliqué\n",
    "    ax.set_xlabel(f'F{x+1} {v1}')\n",
    "    ax.set_ylabel(f'F{y+1} {v2}')\n",
    "\n",
    "    # Valeur x max et y max\n",
    "    x_max = np.abs(X_.iloc[:, x]).max() *1.1\n",
    "    y_max = np.abs(X_.iloc[:, y]).max() *1.1\n",
    "\n",
    "    # On borne x et y \n",
    "    ax.set_xlim(left=-x_max, right=x_max)\n",
    "    ax.set_ylim(bottom= -y_max, top=y_max)\n",
    "\n",
    "    # Affichage des lignes horizontales et verticales\n",
    "    plt.plot([-x_max, x_max], [0, 0], color='grey', alpha=0.8)\n",
    "    plt.plot([0,0], [-y_max, y_max], color='grey', alpha=0.8)\n",
    "\n",
    "    # Affichage des labels des points\n",
    "    if labels : \n",
    "        \n",
    "        for i,(_x,_y) in enumerate(X_[:,[x,y]]):\n",
    "            plt.text(_x, _y, labels[i], fontsize='14', ha='center',va='center') \n",
    "\n",
    "    # Titre, legend et display\n",
    "    plt.title(f\"Projection des individus (sur F{x+1} et F{y+1})\")\n",
    "    if clusters is not None: \n",
    "        plt.legend()\n",
    "    plt.show()\n",
    "\n",
    "def display_scree_plot(pca):\n",
    "    scree = pca.explained_variance_ratio_*100\n",
    "    plt.bar(np.arange(len(scree))+1, scree)\n",
    "    plt.plot(np.arange(len(scree))+1, scree.cumsum(),c=\"red\",marker='o')\n",
    "    plt.xlabel(\"rang de l'axe d'inertie\")\n",
    "    plt.ylabel(\"pourcentage d'inertie\")\n",
    "    plt.title(\"Eboulis des valeurs propres\")\n",
    "    plt.show(block=False)"
   ]
  },
  {
   "cell_type": "markdown",
   "id": "3bfc5ad4",
   "metadata": {},
   "source": [
    "### Import des données "
   ]
  },
  {
   "cell_type": "code",
   "execution_count": 3,
   "id": "d53d77d7",
   "metadata": {
    "id": "d53d77d7",
    "outputId": "ac8e8875-380e-4df5-d5ac-2879b028c6d7",
    "scrolled": true
   },
   "outputs": [
    {
     "data": {
      "text/html": [
       "<div>\n",
       "<style scoped>\n",
       "    .dataframe tbody tr th:only-of-type {\n",
       "        vertical-align: middle;\n",
       "    }\n",
       "\n",
       "    .dataframe tbody tr th {\n",
       "        vertical-align: top;\n",
       "    }\n",
       "\n",
       "    .dataframe thead th {\n",
       "        text-align: right;\n",
       "    }\n",
       "</style>\n",
       "<table border=\"1\" class=\"dataframe\">\n",
       "  <thead>\n",
       "    <tr style=\"text-align: right;\">\n",
       "      <th></th>\n",
       "      <th>is_genuine</th>\n",
       "      <th>diagonal</th>\n",
       "      <th>height_left</th>\n",
       "      <th>height_right</th>\n",
       "      <th>margin_low</th>\n",
       "      <th>margin_up</th>\n",
       "      <th>length</th>\n",
       "    </tr>\n",
       "  </thead>\n",
       "  <tbody>\n",
       "    <tr>\n",
       "      <th>0</th>\n",
       "      <td>True</td>\n",
       "      <td>171.81</td>\n",
       "      <td>104.86</td>\n",
       "      <td>104.95</td>\n",
       "      <td>4.52</td>\n",
       "      <td>2.89</td>\n",
       "      <td>112.83</td>\n",
       "    </tr>\n",
       "    <tr>\n",
       "      <th>1</th>\n",
       "      <td>True</td>\n",
       "      <td>171.46</td>\n",
       "      <td>103.36</td>\n",
       "      <td>103.66</td>\n",
       "      <td>3.77</td>\n",
       "      <td>2.99</td>\n",
       "      <td>113.09</td>\n",
       "    </tr>\n",
       "    <tr>\n",
       "      <th>2</th>\n",
       "      <td>True</td>\n",
       "      <td>172.69</td>\n",
       "      <td>104.48</td>\n",
       "      <td>103.50</td>\n",
       "      <td>4.40</td>\n",
       "      <td>2.94</td>\n",
       "      <td>113.16</td>\n",
       "    </tr>\n",
       "    <tr>\n",
       "      <th>3</th>\n",
       "      <td>True</td>\n",
       "      <td>171.36</td>\n",
       "      <td>103.91</td>\n",
       "      <td>103.94</td>\n",
       "      <td>3.62</td>\n",
       "      <td>3.01</td>\n",
       "      <td>113.51</td>\n",
       "    </tr>\n",
       "    <tr>\n",
       "      <th>4</th>\n",
       "      <td>True</td>\n",
       "      <td>171.73</td>\n",
       "      <td>104.28</td>\n",
       "      <td>103.46</td>\n",
       "      <td>4.04</td>\n",
       "      <td>3.48</td>\n",
       "      <td>112.54</td>\n",
       "    </tr>\n",
       "    <tr>\n",
       "      <th>...</th>\n",
       "      <td>...</td>\n",
       "      <td>...</td>\n",
       "      <td>...</td>\n",
       "      <td>...</td>\n",
       "      <td>...</td>\n",
       "      <td>...</td>\n",
       "      <td>...</td>\n",
       "    </tr>\n",
       "    <tr>\n",
       "      <th>1495</th>\n",
       "      <td>False</td>\n",
       "      <td>171.75</td>\n",
       "      <td>104.38</td>\n",
       "      <td>104.17</td>\n",
       "      <td>4.42</td>\n",
       "      <td>3.09</td>\n",
       "      <td>111.28</td>\n",
       "    </tr>\n",
       "    <tr>\n",
       "      <th>1496</th>\n",
       "      <td>False</td>\n",
       "      <td>172.19</td>\n",
       "      <td>104.63</td>\n",
       "      <td>104.44</td>\n",
       "      <td>5.27</td>\n",
       "      <td>3.37</td>\n",
       "      <td>110.97</td>\n",
       "    </tr>\n",
       "    <tr>\n",
       "      <th>1497</th>\n",
       "      <td>False</td>\n",
       "      <td>171.80</td>\n",
       "      <td>104.01</td>\n",
       "      <td>104.12</td>\n",
       "      <td>5.51</td>\n",
       "      <td>3.36</td>\n",
       "      <td>111.95</td>\n",
       "    </tr>\n",
       "    <tr>\n",
       "      <th>1498</th>\n",
       "      <td>False</td>\n",
       "      <td>172.06</td>\n",
       "      <td>104.28</td>\n",
       "      <td>104.06</td>\n",
       "      <td>5.17</td>\n",
       "      <td>3.46</td>\n",
       "      <td>112.25</td>\n",
       "    </tr>\n",
       "    <tr>\n",
       "      <th>1499</th>\n",
       "      <td>False</td>\n",
       "      <td>171.47</td>\n",
       "      <td>104.15</td>\n",
       "      <td>103.82</td>\n",
       "      <td>4.63</td>\n",
       "      <td>3.37</td>\n",
       "      <td>112.07</td>\n",
       "    </tr>\n",
       "  </tbody>\n",
       "</table>\n",
       "<p>1500 rows × 7 columns</p>\n",
       "</div>"
      ],
      "text/plain": [
       "      is_genuine  diagonal  height_left  height_right  margin_low  margin_up  \\\n",
       "0           True    171.81       104.86        104.95        4.52       2.89   \n",
       "1           True    171.46       103.36        103.66        3.77       2.99   \n",
       "2           True    172.69       104.48        103.50        4.40       2.94   \n",
       "3           True    171.36       103.91        103.94        3.62       3.01   \n",
       "4           True    171.73       104.28        103.46        4.04       3.48   \n",
       "...          ...       ...          ...           ...         ...        ...   \n",
       "1495       False    171.75       104.38        104.17        4.42       3.09   \n",
       "1496       False    172.19       104.63        104.44        5.27       3.37   \n",
       "1497       False    171.80       104.01        104.12        5.51       3.36   \n",
       "1498       False    172.06       104.28        104.06        5.17       3.46   \n",
       "1499       False    171.47       104.15        103.82        4.63       3.37   \n",
       "\n",
       "      length  \n",
       "0     112.83  \n",
       "1     113.09  \n",
       "2     113.16  \n",
       "3     113.51  \n",
       "4     112.54  \n",
       "...      ...  \n",
       "1495  111.28  \n",
       "1496  110.97  \n",
       "1497  111.95  \n",
       "1498  112.25  \n",
       "1499  112.07  \n",
       "\n",
       "[1500 rows x 7 columns]"
      ]
     },
     "execution_count": 3,
     "metadata": {},
     "output_type": "execute_result"
    }
   ],
   "source": [
    "df_global = pd.read_csv(\"Billets.csv\")\n",
    "df_global"
   ]
  },
  {
   "cell_type": "markdown",
   "id": "ebb2c15a",
   "metadata": {},
   "source": [
    "### Exploration des données"
   ]
  },
  {
   "cell_type": "code",
   "execution_count": 4,
   "id": "258f94ed",
   "metadata": {
    "id": "258f94ed",
    "outputId": "03ae524c-af31-4a72-9dc5-358499017f25"
   },
   "outputs": [
    {
     "name": "stdout",
     "output_type": "stream",
     "text": [
      "<class 'pandas.core.frame.DataFrame'>\n",
      "RangeIndex: 1500 entries, 0 to 1499\n",
      "Data columns (total 7 columns):\n",
      " #   Column        Non-Null Count  Dtype  \n",
      "---  ------        --------------  -----  \n",
      " 0   is_genuine    1500 non-null   bool   \n",
      " 1   diagonal      1500 non-null   float64\n",
      " 2   height_left   1500 non-null   float64\n",
      " 3   height_right  1500 non-null   float64\n",
      " 4   margin_low    1463 non-null   float64\n",
      " 5   margin_up     1500 non-null   float64\n",
      " 6   length        1500 non-null   float64\n",
      "dtypes: bool(1), float64(6)\n",
      "memory usage: 71.9 KB\n"
     ]
    }
   ],
   "source": [
    "df_global.info()"
   ]
  },
  {
   "cell_type": "code",
   "execution_count": 5,
   "id": "c5054236",
   "metadata": {
    "id": "c5054236",
    "outputId": "0f9c7d77-6120-42d4-c76f-c8ec9607b515",
    "scrolled": true
   },
   "outputs": [
    {
     "data": {
      "text/html": [
       "<div>\n",
       "<style scoped>\n",
       "    .dataframe tbody tr th:only-of-type {\n",
       "        vertical-align: middle;\n",
       "    }\n",
       "\n",
       "    .dataframe tbody tr th {\n",
       "        vertical-align: top;\n",
       "    }\n",
       "\n",
       "    .dataframe thead th {\n",
       "        text-align: right;\n",
       "    }\n",
       "</style>\n",
       "<table border=\"1\" class=\"dataframe\">\n",
       "  <thead>\n",
       "    <tr style=\"text-align: right;\">\n",
       "      <th></th>\n",
       "      <th>diagonal</th>\n",
       "      <th>height_left</th>\n",
       "      <th>height_right</th>\n",
       "      <th>margin_low</th>\n",
       "      <th>margin_up</th>\n",
       "      <th>length</th>\n",
       "    </tr>\n",
       "  </thead>\n",
       "  <tbody>\n",
       "    <tr>\n",
       "      <th>count</th>\n",
       "      <td>1500.000000</td>\n",
       "      <td>1500.000000</td>\n",
       "      <td>1500.000000</td>\n",
       "      <td>1463.000000</td>\n",
       "      <td>1500.000000</td>\n",
       "      <td>1500.00000</td>\n",
       "    </tr>\n",
       "    <tr>\n",
       "      <th>mean</th>\n",
       "      <td>171.958440</td>\n",
       "      <td>104.029533</td>\n",
       "      <td>103.920307</td>\n",
       "      <td>4.485967</td>\n",
       "      <td>3.151473</td>\n",
       "      <td>112.67850</td>\n",
       "    </tr>\n",
       "    <tr>\n",
       "      <th>std</th>\n",
       "      <td>0.305195</td>\n",
       "      <td>0.299462</td>\n",
       "      <td>0.325627</td>\n",
       "      <td>0.663813</td>\n",
       "      <td>0.231813</td>\n",
       "      <td>0.87273</td>\n",
       "    </tr>\n",
       "    <tr>\n",
       "      <th>min</th>\n",
       "      <td>171.040000</td>\n",
       "      <td>103.140000</td>\n",
       "      <td>102.820000</td>\n",
       "      <td>2.980000</td>\n",
       "      <td>2.270000</td>\n",
       "      <td>109.49000</td>\n",
       "    </tr>\n",
       "    <tr>\n",
       "      <th>25%</th>\n",
       "      <td>171.750000</td>\n",
       "      <td>103.820000</td>\n",
       "      <td>103.710000</td>\n",
       "      <td>4.015000</td>\n",
       "      <td>2.990000</td>\n",
       "      <td>112.03000</td>\n",
       "    </tr>\n",
       "    <tr>\n",
       "      <th>50%</th>\n",
       "      <td>171.960000</td>\n",
       "      <td>104.040000</td>\n",
       "      <td>103.920000</td>\n",
       "      <td>4.310000</td>\n",
       "      <td>3.140000</td>\n",
       "      <td>112.96000</td>\n",
       "    </tr>\n",
       "    <tr>\n",
       "      <th>75%</th>\n",
       "      <td>172.170000</td>\n",
       "      <td>104.230000</td>\n",
       "      <td>104.150000</td>\n",
       "      <td>4.870000</td>\n",
       "      <td>3.310000</td>\n",
       "      <td>113.34000</td>\n",
       "    </tr>\n",
       "    <tr>\n",
       "      <th>max</th>\n",
       "      <td>173.010000</td>\n",
       "      <td>104.880000</td>\n",
       "      <td>104.950000</td>\n",
       "      <td>6.900000</td>\n",
       "      <td>3.910000</td>\n",
       "      <td>114.44000</td>\n",
       "    </tr>\n",
       "  </tbody>\n",
       "</table>\n",
       "</div>"
      ],
      "text/plain": [
       "          diagonal  height_left  height_right   margin_low    margin_up  \\\n",
       "count  1500.000000  1500.000000   1500.000000  1463.000000  1500.000000   \n",
       "mean    171.958440   104.029533    103.920307     4.485967     3.151473   \n",
       "std       0.305195     0.299462      0.325627     0.663813     0.231813   \n",
       "min     171.040000   103.140000    102.820000     2.980000     2.270000   \n",
       "25%     171.750000   103.820000    103.710000     4.015000     2.990000   \n",
       "50%     171.960000   104.040000    103.920000     4.310000     3.140000   \n",
       "75%     172.170000   104.230000    104.150000     4.870000     3.310000   \n",
       "max     173.010000   104.880000    104.950000     6.900000     3.910000   \n",
       "\n",
       "           length  \n",
       "count  1500.00000  \n",
       "mean    112.67850  \n",
       "std       0.87273  \n",
       "min     109.49000  \n",
       "25%     112.03000  \n",
       "50%     112.96000  \n",
       "75%     113.34000  \n",
       "max     114.44000  "
      ]
     },
     "execution_count": 5,
     "metadata": {},
     "output_type": "execute_result"
    }
   ],
   "source": [
    "df_global.describe()"
   ]
  },
  {
   "cell_type": "markdown",
   "id": "7ba1dd66",
   "metadata": {},
   "source": [
    "### Exploration des groupes de vrai et de faux billets"
   ]
  },
  {
   "cell_type": "code",
   "execution_count": 6,
   "id": "4a785838",
   "metadata": {
    "id": "4a785838",
    "outputId": "54ea649c-5adc-4927-a021-21cdc48e0cad"
   },
   "outputs": [
    {
     "data": {
      "text/html": [
       "<div>\n",
       "<style scoped>\n",
       "    .dataframe tbody tr th:only-of-type {\n",
       "        vertical-align: middle;\n",
       "    }\n",
       "\n",
       "    .dataframe tbody tr th {\n",
       "        vertical-align: top;\n",
       "    }\n",
       "\n",
       "    .dataframe thead th {\n",
       "        text-align: right;\n",
       "    }\n",
       "</style>\n",
       "<table border=\"1\" class=\"dataframe\">\n",
       "  <thead>\n",
       "    <tr style=\"text-align: right;\">\n",
       "      <th></th>\n",
       "      <th>diagonal</th>\n",
       "      <th>height_left</th>\n",
       "      <th>height_right</th>\n",
       "      <th>margin_low</th>\n",
       "      <th>margin_up</th>\n",
       "      <th>length</th>\n",
       "    </tr>\n",
       "  </thead>\n",
       "  <tbody>\n",
       "    <tr>\n",
       "      <th>count</th>\n",
       "      <td>1000.000000</td>\n",
       "      <td>1000.000000</td>\n",
       "      <td>1000.00000</td>\n",
       "      <td>971.000000</td>\n",
       "      <td>1000.00000</td>\n",
       "      <td>1000.000000</td>\n",
       "    </tr>\n",
       "    <tr>\n",
       "      <th>mean</th>\n",
       "      <td>171.987080</td>\n",
       "      <td>103.949130</td>\n",
       "      <td>103.80865</td>\n",
       "      <td>4.116097</td>\n",
       "      <td>3.05213</td>\n",
       "      <td>113.202430</td>\n",
       "    </tr>\n",
       "    <tr>\n",
       "      <th>std</th>\n",
       "      <td>0.300441</td>\n",
       "      <td>0.300231</td>\n",
       "      <td>0.29157</td>\n",
       "      <td>0.319124</td>\n",
       "      <td>0.18634</td>\n",
       "      <td>0.359552</td>\n",
       "    </tr>\n",
       "    <tr>\n",
       "      <th>min</th>\n",
       "      <td>171.040000</td>\n",
       "      <td>103.140000</td>\n",
       "      <td>102.82000</td>\n",
       "      <td>2.980000</td>\n",
       "      <td>2.27000</td>\n",
       "      <td>111.760000</td>\n",
       "    </tr>\n",
       "    <tr>\n",
       "      <th>25%</th>\n",
       "      <td>171.790000</td>\n",
       "      <td>103.740000</td>\n",
       "      <td>103.61000</td>\n",
       "      <td>3.905000</td>\n",
       "      <td>2.93000</td>\n",
       "      <td>112.950000</td>\n",
       "    </tr>\n",
       "    <tr>\n",
       "      <th>50%</th>\n",
       "      <td>171.990000</td>\n",
       "      <td>103.950000</td>\n",
       "      <td>103.81000</td>\n",
       "      <td>4.110000</td>\n",
       "      <td>3.05000</td>\n",
       "      <td>113.205000</td>\n",
       "    </tr>\n",
       "    <tr>\n",
       "      <th>75%</th>\n",
       "      <td>172.200000</td>\n",
       "      <td>104.140000</td>\n",
       "      <td>104.00000</td>\n",
       "      <td>4.340000</td>\n",
       "      <td>3.18000</td>\n",
       "      <td>113.460000</td>\n",
       "    </tr>\n",
       "    <tr>\n",
       "      <th>max</th>\n",
       "      <td>172.920000</td>\n",
       "      <td>104.860000</td>\n",
       "      <td>104.95000</td>\n",
       "      <td>5.040000</td>\n",
       "      <td>3.74000</td>\n",
       "      <td>114.440000</td>\n",
       "    </tr>\n",
       "  </tbody>\n",
       "</table>\n",
       "</div>"
      ],
      "text/plain": [
       "          diagonal  height_left  height_right  margin_low   margin_up  \\\n",
       "count  1000.000000  1000.000000    1000.00000  971.000000  1000.00000   \n",
       "mean    171.987080   103.949130     103.80865    4.116097     3.05213   \n",
       "std       0.300441     0.300231       0.29157    0.319124     0.18634   \n",
       "min     171.040000   103.140000     102.82000    2.980000     2.27000   \n",
       "25%     171.790000   103.740000     103.61000    3.905000     2.93000   \n",
       "50%     171.990000   103.950000     103.81000    4.110000     3.05000   \n",
       "75%     172.200000   104.140000     104.00000    4.340000     3.18000   \n",
       "max     172.920000   104.860000     104.95000    5.040000     3.74000   \n",
       "\n",
       "            length  \n",
       "count  1000.000000  \n",
       "mean    113.202430  \n",
       "std       0.359552  \n",
       "min     111.760000  \n",
       "25%     112.950000  \n",
       "50%     113.205000  \n",
       "75%     113.460000  \n",
       "max     114.440000  "
      ]
     },
     "execution_count": 6,
     "metadata": {},
     "output_type": "execute_result"
    }
   ],
   "source": [
    "df_global[df_global['is_genuine']==True].describe()"
   ]
  },
  {
   "cell_type": "code",
   "execution_count": 7,
   "id": "52bc6172",
   "metadata": {
    "id": "52bc6172",
    "outputId": "06cb4934-5bc1-44c3-e6a9-91306392b6b3"
   },
   "outputs": [
    {
     "data": {
      "text/html": [
       "<div>\n",
       "<style scoped>\n",
       "    .dataframe tbody tr th:only-of-type {\n",
       "        vertical-align: middle;\n",
       "    }\n",
       "\n",
       "    .dataframe tbody tr th {\n",
       "        vertical-align: top;\n",
       "    }\n",
       "\n",
       "    .dataframe thead th {\n",
       "        text-align: right;\n",
       "    }\n",
       "</style>\n",
       "<table border=\"1\" class=\"dataframe\">\n",
       "  <thead>\n",
       "    <tr style=\"text-align: right;\">\n",
       "      <th></th>\n",
       "      <th>diagonal</th>\n",
       "      <th>height_left</th>\n",
       "      <th>height_right</th>\n",
       "      <th>margin_low</th>\n",
       "      <th>margin_up</th>\n",
       "      <th>length</th>\n",
       "    </tr>\n",
       "  </thead>\n",
       "  <tbody>\n",
       "    <tr>\n",
       "      <th>count</th>\n",
       "      <td>500.000000</td>\n",
       "      <td>500.000000</td>\n",
       "      <td>500.000000</td>\n",
       "      <td>492.000000</td>\n",
       "      <td>500.000000</td>\n",
       "      <td>500.000000</td>\n",
       "    </tr>\n",
       "    <tr>\n",
       "      <th>mean</th>\n",
       "      <td>171.901160</td>\n",
       "      <td>104.190340</td>\n",
       "      <td>104.143620</td>\n",
       "      <td>5.215935</td>\n",
       "      <td>3.350160</td>\n",
       "      <td>111.630640</td>\n",
       "    </tr>\n",
       "    <tr>\n",
       "      <th>std</th>\n",
       "      <td>0.306861</td>\n",
       "      <td>0.223758</td>\n",
       "      <td>0.270878</td>\n",
       "      <td>0.553531</td>\n",
       "      <td>0.180498</td>\n",
       "      <td>0.615543</td>\n",
       "    </tr>\n",
       "    <tr>\n",
       "      <th>min</th>\n",
       "      <td>171.040000</td>\n",
       "      <td>103.510000</td>\n",
       "      <td>103.430000</td>\n",
       "      <td>3.820000</td>\n",
       "      <td>2.920000</td>\n",
       "      <td>109.490000</td>\n",
       "    </tr>\n",
       "    <tr>\n",
       "      <th>25%</th>\n",
       "      <td>171.690000</td>\n",
       "      <td>104.040000</td>\n",
       "      <td>103.950000</td>\n",
       "      <td>4.840000</td>\n",
       "      <td>3.220000</td>\n",
       "      <td>111.200000</td>\n",
       "    </tr>\n",
       "    <tr>\n",
       "      <th>50%</th>\n",
       "      <td>171.910000</td>\n",
       "      <td>104.180000</td>\n",
       "      <td>104.160000</td>\n",
       "      <td>5.190000</td>\n",
       "      <td>3.350000</td>\n",
       "      <td>111.630000</td>\n",
       "    </tr>\n",
       "    <tr>\n",
       "      <th>75%</th>\n",
       "      <td>172.092500</td>\n",
       "      <td>104.332500</td>\n",
       "      <td>104.320000</td>\n",
       "      <td>5.592500</td>\n",
       "      <td>3.472500</td>\n",
       "      <td>112.030000</td>\n",
       "    </tr>\n",
       "    <tr>\n",
       "      <th>max</th>\n",
       "      <td>173.010000</td>\n",
       "      <td>104.880000</td>\n",
       "      <td>104.950000</td>\n",
       "      <td>6.900000</td>\n",
       "      <td>3.910000</td>\n",
       "      <td>113.850000</td>\n",
       "    </tr>\n",
       "  </tbody>\n",
       "</table>\n",
       "</div>"
      ],
      "text/plain": [
       "         diagonal  height_left  height_right  margin_low   margin_up  \\\n",
       "count  500.000000   500.000000    500.000000  492.000000  500.000000   \n",
       "mean   171.901160   104.190340    104.143620    5.215935    3.350160   \n",
       "std      0.306861     0.223758      0.270878    0.553531    0.180498   \n",
       "min    171.040000   103.510000    103.430000    3.820000    2.920000   \n",
       "25%    171.690000   104.040000    103.950000    4.840000    3.220000   \n",
       "50%    171.910000   104.180000    104.160000    5.190000    3.350000   \n",
       "75%    172.092500   104.332500    104.320000    5.592500    3.472500   \n",
       "max    173.010000   104.880000    104.950000    6.900000    3.910000   \n",
       "\n",
       "           length  \n",
       "count  500.000000  \n",
       "mean   111.630640  \n",
       "std      0.615543  \n",
       "min    109.490000  \n",
       "25%    111.200000  \n",
       "50%    111.630000  \n",
       "75%    112.030000  \n",
       "max    113.850000  "
      ]
     },
     "execution_count": 7,
     "metadata": {},
     "output_type": "execute_result"
    }
   ],
   "source": [
    "df_global[df_global['is_genuine']==False].describe()"
   ]
  },
  {
   "cell_type": "code",
   "execution_count": 8,
   "id": "693be79f",
   "metadata": {
    "id": "693be79f",
    "outputId": "be749426-f4cd-4238-872d-f8b365c2c643",
    "scrolled": true
   },
   "outputs": [
    {
     "data": {
      "text/plain": [
       "is_genuine       0\n",
       "diagonal         0\n",
       "height_left      0\n",
       "height_right     0\n",
       "margin_low      37\n",
       "margin_up        0\n",
       "length           0\n",
       "dtype: int64"
      ]
     },
     "execution_count": 8,
     "metadata": {},
     "output_type": "execute_result"
    }
   ],
   "source": [
    "df_global.isnull().sum()"
   ]
  },
  {
   "cell_type": "raw",
   "id": "f35e2797",
   "metadata": {
    "id": "f35e2797"
   },
   "source": [
    "On a ici 37 valeurs manquantes, on va utiliser les autres paramètres et une regression linéaire afin de combler les valeurs manquantes. "
   ]
  },
  {
   "cell_type": "markdown",
   "id": "cc3e2cd1",
   "metadata": {},
   "source": [
    "# Estimation des valeurs manquantes "
   ]
  },
  {
   "cell_type": "markdown",
   "id": "7dd40f28",
   "metadata": {},
   "source": [
    "### Extraction des données incompletes "
   ]
  },
  {
   "cell_type": "code",
   "execution_count": 9,
   "id": "d68eb3bd",
   "metadata": {
    "id": "d68eb3bd",
    "outputId": "a0978b5e-fab2-4fc2-9717-992eebfe4b69"
   },
   "outputs": [
    {
     "data": {
      "text/html": [
       "<div>\n",
       "<style scoped>\n",
       "    .dataframe tbody tr th:only-of-type {\n",
       "        vertical-align: middle;\n",
       "    }\n",
       "\n",
       "    .dataframe tbody tr th {\n",
       "        vertical-align: top;\n",
       "    }\n",
       "\n",
       "    .dataframe thead th {\n",
       "        text-align: right;\n",
       "    }\n",
       "</style>\n",
       "<table border=\"1\" class=\"dataframe\">\n",
       "  <thead>\n",
       "    <tr style=\"text-align: right;\">\n",
       "      <th></th>\n",
       "      <th>is_genuine</th>\n",
       "      <th>diagonal</th>\n",
       "      <th>height_left</th>\n",
       "      <th>height_right</th>\n",
       "      <th>margin_low</th>\n",
       "      <th>margin_up</th>\n",
       "      <th>length</th>\n",
       "    </tr>\n",
       "  </thead>\n",
       "  <tbody>\n",
       "    <tr>\n",
       "      <th>72</th>\n",
       "      <td>True</td>\n",
       "      <td>171.94</td>\n",
       "      <td>103.89</td>\n",
       "      <td>103.45</td>\n",
       "      <td>NaN</td>\n",
       "      <td>3.25</td>\n",
       "      <td>112.79</td>\n",
       "    </tr>\n",
       "    <tr>\n",
       "      <th>99</th>\n",
       "      <td>True</td>\n",
       "      <td>171.93</td>\n",
       "      <td>104.07</td>\n",
       "      <td>104.18</td>\n",
       "      <td>NaN</td>\n",
       "      <td>3.14</td>\n",
       "      <td>113.08</td>\n",
       "    </tr>\n",
       "    <tr>\n",
       "      <th>151</th>\n",
       "      <td>True</td>\n",
       "      <td>172.07</td>\n",
       "      <td>103.80</td>\n",
       "      <td>104.38</td>\n",
       "      <td>NaN</td>\n",
       "      <td>3.02</td>\n",
       "      <td>112.93</td>\n",
       "    </tr>\n",
       "    <tr>\n",
       "      <th>197</th>\n",
       "      <td>True</td>\n",
       "      <td>171.45</td>\n",
       "      <td>103.66</td>\n",
       "      <td>103.80</td>\n",
       "      <td>NaN</td>\n",
       "      <td>3.62</td>\n",
       "      <td>113.27</td>\n",
       "    </tr>\n",
       "    <tr>\n",
       "      <th>241</th>\n",
       "      <td>True</td>\n",
       "      <td>171.83</td>\n",
       "      <td>104.14</td>\n",
       "      <td>104.06</td>\n",
       "      <td>NaN</td>\n",
       "      <td>3.02</td>\n",
       "      <td>112.36</td>\n",
       "    </tr>\n",
       "    <tr>\n",
       "      <th>251</th>\n",
       "      <td>True</td>\n",
       "      <td>171.80</td>\n",
       "      <td>103.26</td>\n",
       "      <td>102.82</td>\n",
       "      <td>NaN</td>\n",
       "      <td>2.95</td>\n",
       "      <td>113.22</td>\n",
       "    </tr>\n",
       "    <tr>\n",
       "      <th>284</th>\n",
       "      <td>True</td>\n",
       "      <td>171.92</td>\n",
       "      <td>103.83</td>\n",
       "      <td>103.76</td>\n",
       "      <td>NaN</td>\n",
       "      <td>3.23</td>\n",
       "      <td>113.29</td>\n",
       "    </tr>\n",
       "    <tr>\n",
       "      <th>334</th>\n",
       "      <td>True</td>\n",
       "      <td>171.85</td>\n",
       "      <td>103.70</td>\n",
       "      <td>103.96</td>\n",
       "      <td>NaN</td>\n",
       "      <td>3.00</td>\n",
       "      <td>113.36</td>\n",
       "    </tr>\n",
       "    <tr>\n",
       "      <th>410</th>\n",
       "      <td>True</td>\n",
       "      <td>172.56</td>\n",
       "      <td>103.72</td>\n",
       "      <td>103.51</td>\n",
       "      <td>NaN</td>\n",
       "      <td>3.12</td>\n",
       "      <td>112.95</td>\n",
       "    </tr>\n",
       "    <tr>\n",
       "      <th>413</th>\n",
       "      <td>True</td>\n",
       "      <td>172.30</td>\n",
       "      <td>103.66</td>\n",
       "      <td>103.50</td>\n",
       "      <td>NaN</td>\n",
       "      <td>3.16</td>\n",
       "      <td>112.95</td>\n",
       "    </tr>\n",
       "    <tr>\n",
       "      <th>445</th>\n",
       "      <td>True</td>\n",
       "      <td>172.34</td>\n",
       "      <td>104.42</td>\n",
       "      <td>103.22</td>\n",
       "      <td>NaN</td>\n",
       "      <td>3.01</td>\n",
       "      <td>112.97</td>\n",
       "    </tr>\n",
       "    <tr>\n",
       "      <th>481</th>\n",
       "      <td>True</td>\n",
       "      <td>171.81</td>\n",
       "      <td>103.53</td>\n",
       "      <td>103.96</td>\n",
       "      <td>NaN</td>\n",
       "      <td>2.71</td>\n",
       "      <td>113.99</td>\n",
       "    </tr>\n",
       "    <tr>\n",
       "      <th>505</th>\n",
       "      <td>True</td>\n",
       "      <td>172.01</td>\n",
       "      <td>103.97</td>\n",
       "      <td>104.05</td>\n",
       "      <td>NaN</td>\n",
       "      <td>2.98</td>\n",
       "      <td>113.65</td>\n",
       "    </tr>\n",
       "    <tr>\n",
       "      <th>611</th>\n",
       "      <td>True</td>\n",
       "      <td>171.80</td>\n",
       "      <td>103.68</td>\n",
       "      <td>103.49</td>\n",
       "      <td>NaN</td>\n",
       "      <td>3.30</td>\n",
       "      <td>112.84</td>\n",
       "    </tr>\n",
       "    <tr>\n",
       "      <th>654</th>\n",
       "      <td>True</td>\n",
       "      <td>171.97</td>\n",
       "      <td>103.69</td>\n",
       "      <td>103.54</td>\n",
       "      <td>NaN</td>\n",
       "      <td>2.70</td>\n",
       "      <td>112.79</td>\n",
       "    </tr>\n",
       "    <tr>\n",
       "      <th>675</th>\n",
       "      <td>True</td>\n",
       "      <td>171.60</td>\n",
       "      <td>103.85</td>\n",
       "      <td>103.91</td>\n",
       "      <td>NaN</td>\n",
       "      <td>2.56</td>\n",
       "      <td>113.27</td>\n",
       "    </tr>\n",
       "    <tr>\n",
       "      <th>710</th>\n",
       "      <td>True</td>\n",
       "      <td>172.03</td>\n",
       "      <td>103.97</td>\n",
       "      <td>103.86</td>\n",
       "      <td>NaN</td>\n",
       "      <td>3.07</td>\n",
       "      <td>112.65</td>\n",
       "    </tr>\n",
       "    <tr>\n",
       "      <th>739</th>\n",
       "      <td>True</td>\n",
       "      <td>172.07</td>\n",
       "      <td>103.74</td>\n",
       "      <td>103.76</td>\n",
       "      <td>NaN</td>\n",
       "      <td>3.09</td>\n",
       "      <td>112.41</td>\n",
       "    </tr>\n",
       "    <tr>\n",
       "      <th>742</th>\n",
       "      <td>True</td>\n",
       "      <td>172.14</td>\n",
       "      <td>104.06</td>\n",
       "      <td>103.96</td>\n",
       "      <td>NaN</td>\n",
       "      <td>3.24</td>\n",
       "      <td>113.07</td>\n",
       "    </tr>\n",
       "    <tr>\n",
       "      <th>780</th>\n",
       "      <td>True</td>\n",
       "      <td>172.41</td>\n",
       "      <td>103.95</td>\n",
       "      <td>103.79</td>\n",
       "      <td>NaN</td>\n",
       "      <td>3.13</td>\n",
       "      <td>113.41</td>\n",
       "    </tr>\n",
       "    <tr>\n",
       "      <th>798</th>\n",
       "      <td>True</td>\n",
       "      <td>171.96</td>\n",
       "      <td>103.84</td>\n",
       "      <td>103.62</td>\n",
       "      <td>NaN</td>\n",
       "      <td>3.01</td>\n",
       "      <td>114.44</td>\n",
       "    </tr>\n",
       "    <tr>\n",
       "      <th>844</th>\n",
       "      <td>True</td>\n",
       "      <td>171.62</td>\n",
       "      <td>104.14</td>\n",
       "      <td>104.49</td>\n",
       "      <td>NaN</td>\n",
       "      <td>2.99</td>\n",
       "      <td>113.35</td>\n",
       "    </tr>\n",
       "    <tr>\n",
       "      <th>845</th>\n",
       "      <td>True</td>\n",
       "      <td>172.02</td>\n",
       "      <td>104.21</td>\n",
       "      <td>104.05</td>\n",
       "      <td>NaN</td>\n",
       "      <td>2.90</td>\n",
       "      <td>113.62</td>\n",
       "    </tr>\n",
       "    <tr>\n",
       "      <th>871</th>\n",
       "      <td>True</td>\n",
       "      <td>171.37</td>\n",
       "      <td>104.07</td>\n",
       "      <td>103.75</td>\n",
       "      <td>NaN</td>\n",
       "      <td>3.07</td>\n",
       "      <td>113.27</td>\n",
       "    </tr>\n",
       "    <tr>\n",
       "      <th>895</th>\n",
       "      <td>True</td>\n",
       "      <td>171.81</td>\n",
       "      <td>103.68</td>\n",
       "      <td>103.80</td>\n",
       "      <td>NaN</td>\n",
       "      <td>2.98</td>\n",
       "      <td>113.82</td>\n",
       "    </tr>\n",
       "    <tr>\n",
       "      <th>919</th>\n",
       "      <td>True</td>\n",
       "      <td>171.92</td>\n",
       "      <td>103.68</td>\n",
       "      <td>103.45</td>\n",
       "      <td>NaN</td>\n",
       "      <td>2.58</td>\n",
       "      <td>113.68</td>\n",
       "    </tr>\n",
       "    <tr>\n",
       "      <th>945</th>\n",
       "      <td>True</td>\n",
       "      <td>172.09</td>\n",
       "      <td>103.74</td>\n",
       "      <td>103.52</td>\n",
       "      <td>NaN</td>\n",
       "      <td>3.02</td>\n",
       "      <td>112.78</td>\n",
       "    </tr>\n",
       "    <tr>\n",
       "      <th>946</th>\n",
       "      <td>True</td>\n",
       "      <td>171.63</td>\n",
       "      <td>103.87</td>\n",
       "      <td>104.66</td>\n",
       "      <td>NaN</td>\n",
       "      <td>3.27</td>\n",
       "      <td>112.68</td>\n",
       "    </tr>\n",
       "    <tr>\n",
       "      <th>981</th>\n",
       "      <td>True</td>\n",
       "      <td>172.02</td>\n",
       "      <td>104.23</td>\n",
       "      <td>103.72</td>\n",
       "      <td>NaN</td>\n",
       "      <td>2.99</td>\n",
       "      <td>113.37</td>\n",
       "    </tr>\n",
       "    <tr>\n",
       "      <th>1076</th>\n",
       "      <td>False</td>\n",
       "      <td>171.57</td>\n",
       "      <td>104.27</td>\n",
       "      <td>104.44</td>\n",
       "      <td>NaN</td>\n",
       "      <td>3.21</td>\n",
       "      <td>111.87</td>\n",
       "    </tr>\n",
       "    <tr>\n",
       "      <th>1121</th>\n",
       "      <td>False</td>\n",
       "      <td>171.40</td>\n",
       "      <td>104.38</td>\n",
       "      <td>104.19</td>\n",
       "      <td>NaN</td>\n",
       "      <td>3.17</td>\n",
       "      <td>112.39</td>\n",
       "    </tr>\n",
       "    <tr>\n",
       "      <th>1176</th>\n",
       "      <td>False</td>\n",
       "      <td>171.59</td>\n",
       "      <td>104.05</td>\n",
       "      <td>103.94</td>\n",
       "      <td>NaN</td>\n",
       "      <td>3.02</td>\n",
       "      <td>111.29</td>\n",
       "    </tr>\n",
       "    <tr>\n",
       "      <th>1303</th>\n",
       "      <td>False</td>\n",
       "      <td>172.17</td>\n",
       "      <td>104.49</td>\n",
       "      <td>103.76</td>\n",
       "      <td>NaN</td>\n",
       "      <td>2.93</td>\n",
       "      <td>111.21</td>\n",
       "    </tr>\n",
       "    <tr>\n",
       "      <th>1315</th>\n",
       "      <td>False</td>\n",
       "      <td>172.08</td>\n",
       "      <td>104.15</td>\n",
       "      <td>104.17</td>\n",
       "      <td>NaN</td>\n",
       "      <td>3.40</td>\n",
       "      <td>112.29</td>\n",
       "    </tr>\n",
       "    <tr>\n",
       "      <th>1347</th>\n",
       "      <td>False</td>\n",
       "      <td>171.72</td>\n",
       "      <td>104.46</td>\n",
       "      <td>104.12</td>\n",
       "      <td>NaN</td>\n",
       "      <td>3.61</td>\n",
       "      <td>110.31</td>\n",
       "    </tr>\n",
       "    <tr>\n",
       "      <th>1435</th>\n",
       "      <td>False</td>\n",
       "      <td>172.66</td>\n",
       "      <td>104.33</td>\n",
       "      <td>104.41</td>\n",
       "      <td>NaN</td>\n",
       "      <td>3.56</td>\n",
       "      <td>111.47</td>\n",
       "    </tr>\n",
       "    <tr>\n",
       "      <th>1438</th>\n",
       "      <td>False</td>\n",
       "      <td>171.90</td>\n",
       "      <td>104.28</td>\n",
       "      <td>104.29</td>\n",
       "      <td>NaN</td>\n",
       "      <td>3.24</td>\n",
       "      <td>111.49</td>\n",
       "    </tr>\n",
       "  </tbody>\n",
       "</table>\n",
       "</div>"
      ],
      "text/plain": [
       "      is_genuine  diagonal  height_left  height_right  margin_low  margin_up  \\\n",
       "72          True    171.94       103.89        103.45         NaN       3.25   \n",
       "99          True    171.93       104.07        104.18         NaN       3.14   \n",
       "151         True    172.07       103.80        104.38         NaN       3.02   \n",
       "197         True    171.45       103.66        103.80         NaN       3.62   \n",
       "241         True    171.83       104.14        104.06         NaN       3.02   \n",
       "251         True    171.80       103.26        102.82         NaN       2.95   \n",
       "284         True    171.92       103.83        103.76         NaN       3.23   \n",
       "334         True    171.85       103.70        103.96         NaN       3.00   \n",
       "410         True    172.56       103.72        103.51         NaN       3.12   \n",
       "413         True    172.30       103.66        103.50         NaN       3.16   \n",
       "445         True    172.34       104.42        103.22         NaN       3.01   \n",
       "481         True    171.81       103.53        103.96         NaN       2.71   \n",
       "505         True    172.01       103.97        104.05         NaN       2.98   \n",
       "611         True    171.80       103.68        103.49         NaN       3.30   \n",
       "654         True    171.97       103.69        103.54         NaN       2.70   \n",
       "675         True    171.60       103.85        103.91         NaN       2.56   \n",
       "710         True    172.03       103.97        103.86         NaN       3.07   \n",
       "739         True    172.07       103.74        103.76         NaN       3.09   \n",
       "742         True    172.14       104.06        103.96         NaN       3.24   \n",
       "780         True    172.41       103.95        103.79         NaN       3.13   \n",
       "798         True    171.96       103.84        103.62         NaN       3.01   \n",
       "844         True    171.62       104.14        104.49         NaN       2.99   \n",
       "845         True    172.02       104.21        104.05         NaN       2.90   \n",
       "871         True    171.37       104.07        103.75         NaN       3.07   \n",
       "895         True    171.81       103.68        103.80         NaN       2.98   \n",
       "919         True    171.92       103.68        103.45         NaN       2.58   \n",
       "945         True    172.09       103.74        103.52         NaN       3.02   \n",
       "946         True    171.63       103.87        104.66         NaN       3.27   \n",
       "981         True    172.02       104.23        103.72         NaN       2.99   \n",
       "1076       False    171.57       104.27        104.44         NaN       3.21   \n",
       "1121       False    171.40       104.38        104.19         NaN       3.17   \n",
       "1176       False    171.59       104.05        103.94         NaN       3.02   \n",
       "1303       False    172.17       104.49        103.76         NaN       2.93   \n",
       "1315       False    172.08       104.15        104.17         NaN       3.40   \n",
       "1347       False    171.72       104.46        104.12         NaN       3.61   \n",
       "1435       False    172.66       104.33        104.41         NaN       3.56   \n",
       "1438       False    171.90       104.28        104.29         NaN       3.24   \n",
       "\n",
       "      length  \n",
       "72    112.79  \n",
       "99    113.08  \n",
       "151   112.93  \n",
       "197   113.27  \n",
       "241   112.36  \n",
       "251   113.22  \n",
       "284   113.29  \n",
       "334   113.36  \n",
       "410   112.95  \n",
       "413   112.95  \n",
       "445   112.97  \n",
       "481   113.99  \n",
       "505   113.65  \n",
       "611   112.84  \n",
       "654   112.79  \n",
       "675   113.27  \n",
       "710   112.65  \n",
       "739   112.41  \n",
       "742   113.07  \n",
       "780   113.41  \n",
       "798   114.44  \n",
       "844   113.35  \n",
       "845   113.62  \n",
       "871   113.27  \n",
       "895   113.82  \n",
       "919   113.68  \n",
       "945   112.78  \n",
       "946   112.68  \n",
       "981   113.37  \n",
       "1076  111.87  \n",
       "1121  112.39  \n",
       "1176  111.29  \n",
       "1303  111.21  \n",
       "1315  112.29  \n",
       "1347  110.31  \n",
       "1435  111.47  \n",
       "1438  111.49  "
      ]
     },
     "execution_count": 9,
     "metadata": {},
     "output_type": "execute_result"
    }
   ],
   "source": [
    "df_global_manquant = df_global[df_global['margin_low'].isnull()]\n",
    "df_global_manquant"
   ]
  },
  {
   "cell_type": "code",
   "execution_count": 10,
   "id": "63d05077",
   "metadata": {
    "id": "63d05077",
    "outputId": "3b63922b-c77e-4bfc-e164-9a1804fa114a"
   },
   "outputs": [
    {
     "data": {
      "text/html": [
       "<div>\n",
       "<style scoped>\n",
       "    .dataframe tbody tr th:only-of-type {\n",
       "        vertical-align: middle;\n",
       "    }\n",
       "\n",
       "    .dataframe tbody tr th {\n",
       "        vertical-align: top;\n",
       "    }\n",
       "\n",
       "    .dataframe thead th {\n",
       "        text-align: right;\n",
       "    }\n",
       "</style>\n",
       "<table border=\"1\" class=\"dataframe\">\n",
       "  <thead>\n",
       "    <tr style=\"text-align: right;\">\n",
       "      <th></th>\n",
       "      <th>is_genuine</th>\n",
       "      <th>diagonal</th>\n",
       "      <th>height_left</th>\n",
       "      <th>height_right</th>\n",
       "      <th>margin_low</th>\n",
       "      <th>margin_up</th>\n",
       "      <th>length</th>\n",
       "    </tr>\n",
       "  </thead>\n",
       "  <tbody>\n",
       "    <tr>\n",
       "      <th>0</th>\n",
       "      <td>True</td>\n",
       "      <td>171.81</td>\n",
       "      <td>104.86</td>\n",
       "      <td>104.95</td>\n",
       "      <td>4.52</td>\n",
       "      <td>2.89</td>\n",
       "      <td>112.83</td>\n",
       "    </tr>\n",
       "    <tr>\n",
       "      <th>1</th>\n",
       "      <td>True</td>\n",
       "      <td>171.46</td>\n",
       "      <td>103.36</td>\n",
       "      <td>103.66</td>\n",
       "      <td>3.77</td>\n",
       "      <td>2.99</td>\n",
       "      <td>113.09</td>\n",
       "    </tr>\n",
       "    <tr>\n",
       "      <th>2</th>\n",
       "      <td>True</td>\n",
       "      <td>172.69</td>\n",
       "      <td>104.48</td>\n",
       "      <td>103.50</td>\n",
       "      <td>4.40</td>\n",
       "      <td>2.94</td>\n",
       "      <td>113.16</td>\n",
       "    </tr>\n",
       "    <tr>\n",
       "      <th>3</th>\n",
       "      <td>True</td>\n",
       "      <td>171.36</td>\n",
       "      <td>103.91</td>\n",
       "      <td>103.94</td>\n",
       "      <td>3.62</td>\n",
       "      <td>3.01</td>\n",
       "      <td>113.51</td>\n",
       "    </tr>\n",
       "    <tr>\n",
       "      <th>4</th>\n",
       "      <td>True</td>\n",
       "      <td>171.73</td>\n",
       "      <td>104.28</td>\n",
       "      <td>103.46</td>\n",
       "      <td>4.04</td>\n",
       "      <td>3.48</td>\n",
       "      <td>112.54</td>\n",
       "    </tr>\n",
       "    <tr>\n",
       "      <th>...</th>\n",
       "      <td>...</td>\n",
       "      <td>...</td>\n",
       "      <td>...</td>\n",
       "      <td>...</td>\n",
       "      <td>...</td>\n",
       "      <td>...</td>\n",
       "      <td>...</td>\n",
       "    </tr>\n",
       "    <tr>\n",
       "      <th>1495</th>\n",
       "      <td>False</td>\n",
       "      <td>171.75</td>\n",
       "      <td>104.38</td>\n",
       "      <td>104.17</td>\n",
       "      <td>4.42</td>\n",
       "      <td>3.09</td>\n",
       "      <td>111.28</td>\n",
       "    </tr>\n",
       "    <tr>\n",
       "      <th>1496</th>\n",
       "      <td>False</td>\n",
       "      <td>172.19</td>\n",
       "      <td>104.63</td>\n",
       "      <td>104.44</td>\n",
       "      <td>5.27</td>\n",
       "      <td>3.37</td>\n",
       "      <td>110.97</td>\n",
       "    </tr>\n",
       "    <tr>\n",
       "      <th>1497</th>\n",
       "      <td>False</td>\n",
       "      <td>171.80</td>\n",
       "      <td>104.01</td>\n",
       "      <td>104.12</td>\n",
       "      <td>5.51</td>\n",
       "      <td>3.36</td>\n",
       "      <td>111.95</td>\n",
       "    </tr>\n",
       "    <tr>\n",
       "      <th>1498</th>\n",
       "      <td>False</td>\n",
       "      <td>172.06</td>\n",
       "      <td>104.28</td>\n",
       "      <td>104.06</td>\n",
       "      <td>5.17</td>\n",
       "      <td>3.46</td>\n",
       "      <td>112.25</td>\n",
       "    </tr>\n",
       "    <tr>\n",
       "      <th>1499</th>\n",
       "      <td>False</td>\n",
       "      <td>171.47</td>\n",
       "      <td>104.15</td>\n",
       "      <td>103.82</td>\n",
       "      <td>4.63</td>\n",
       "      <td>3.37</td>\n",
       "      <td>112.07</td>\n",
       "    </tr>\n",
       "  </tbody>\n",
       "</table>\n",
       "<p>1463 rows × 7 columns</p>\n",
       "</div>"
      ],
      "text/plain": [
       "      is_genuine  diagonal  height_left  height_right  margin_low  margin_up  \\\n",
       "0           True    171.81       104.86        104.95        4.52       2.89   \n",
       "1           True    171.46       103.36        103.66        3.77       2.99   \n",
       "2           True    172.69       104.48        103.50        4.40       2.94   \n",
       "3           True    171.36       103.91        103.94        3.62       3.01   \n",
       "4           True    171.73       104.28        103.46        4.04       3.48   \n",
       "...          ...       ...          ...           ...         ...        ...   \n",
       "1495       False    171.75       104.38        104.17        4.42       3.09   \n",
       "1496       False    172.19       104.63        104.44        5.27       3.37   \n",
       "1497       False    171.80       104.01        104.12        5.51       3.36   \n",
       "1498       False    172.06       104.28        104.06        5.17       3.46   \n",
       "1499       False    171.47       104.15        103.82        4.63       3.37   \n",
       "\n",
       "      length  \n",
       "0     112.83  \n",
       "1     113.09  \n",
       "2     113.16  \n",
       "3     113.51  \n",
       "4     112.54  \n",
       "...      ...  \n",
       "1495  111.28  \n",
       "1496  110.97  \n",
       "1497  111.95  \n",
       "1498  112.25  \n",
       "1499  112.07  \n",
       "\n",
       "[1463 rows x 7 columns]"
      ]
     },
     "execution_count": 10,
     "metadata": {},
     "output_type": "execute_result"
    }
   ],
   "source": [
    "df_global_complet = df_global[df_global['margin_low'].notnull()]\n",
    "df_global_complet"
   ]
  },
  {
   "cell_type": "code",
   "execution_count": 11,
   "id": "71ab61c8",
   "metadata": {
    "id": "71ab61c8",
    "outputId": "9f1ba2ee-ec8e-4238-f629-21154ecd782a",
    "scrolled": true
   },
   "outputs": [
    {
     "data": {
      "text/plain": [
       "Index(['is_genuine', 'diagonal', 'height_left', 'height_right', 'margin_low',\n",
       "       'margin_up', 'length'],\n",
       "      dtype='object')"
      ]
     },
     "execution_count": 11,
     "metadata": {},
     "output_type": "execute_result"
    }
   ],
   "source": [
    "df_global_complet.columns"
   ]
  },
  {
   "cell_type": "markdown",
   "id": "9ab6078d",
   "metadata": {},
   "source": [
    "### On veut créer un modèle qui estime \"Margin_Low\" en fct des autres valeurs"
   ]
  },
  {
   "cell_type": "code",
   "execution_count": 12,
   "id": "cf879883",
   "metadata": {
    "id": "cf879883",
    "outputId": "6af4b67a-8aab-48ad-afc6-db717d4db8c1"
   },
   "outputs": [
    {
     "data": {
      "text/html": [
       "<div>\n",
       "<style scoped>\n",
       "    .dataframe tbody tr th:only-of-type {\n",
       "        vertical-align: middle;\n",
       "    }\n",
       "\n",
       "    .dataframe tbody tr th {\n",
       "        vertical-align: top;\n",
       "    }\n",
       "\n",
       "    .dataframe thead th {\n",
       "        text-align: right;\n",
       "    }\n",
       "</style>\n",
       "<table border=\"1\" class=\"dataframe\">\n",
       "  <thead>\n",
       "    <tr style=\"text-align: right;\">\n",
       "      <th></th>\n",
       "      <th>diagonal</th>\n",
       "      <th>height_left</th>\n",
       "      <th>height_right</th>\n",
       "      <th>margin_up</th>\n",
       "      <th>length</th>\n",
       "    </tr>\n",
       "  </thead>\n",
       "  <tbody>\n",
       "    <tr>\n",
       "      <th>0</th>\n",
       "      <td>171.81</td>\n",
       "      <td>104.86</td>\n",
       "      <td>104.95</td>\n",
       "      <td>2.89</td>\n",
       "      <td>112.83</td>\n",
       "    </tr>\n",
       "    <tr>\n",
       "      <th>1</th>\n",
       "      <td>171.46</td>\n",
       "      <td>103.36</td>\n",
       "      <td>103.66</td>\n",
       "      <td>2.99</td>\n",
       "      <td>113.09</td>\n",
       "    </tr>\n",
       "    <tr>\n",
       "      <th>2</th>\n",
       "      <td>172.69</td>\n",
       "      <td>104.48</td>\n",
       "      <td>103.50</td>\n",
       "      <td>2.94</td>\n",
       "      <td>113.16</td>\n",
       "    </tr>\n",
       "    <tr>\n",
       "      <th>3</th>\n",
       "      <td>171.36</td>\n",
       "      <td>103.91</td>\n",
       "      <td>103.94</td>\n",
       "      <td>3.01</td>\n",
       "      <td>113.51</td>\n",
       "    </tr>\n",
       "    <tr>\n",
       "      <th>4</th>\n",
       "      <td>171.73</td>\n",
       "      <td>104.28</td>\n",
       "      <td>103.46</td>\n",
       "      <td>3.48</td>\n",
       "      <td>112.54</td>\n",
       "    </tr>\n",
       "    <tr>\n",
       "      <th>...</th>\n",
       "      <td>...</td>\n",
       "      <td>...</td>\n",
       "      <td>...</td>\n",
       "      <td>...</td>\n",
       "      <td>...</td>\n",
       "    </tr>\n",
       "    <tr>\n",
       "      <th>1495</th>\n",
       "      <td>171.75</td>\n",
       "      <td>104.38</td>\n",
       "      <td>104.17</td>\n",
       "      <td>3.09</td>\n",
       "      <td>111.28</td>\n",
       "    </tr>\n",
       "    <tr>\n",
       "      <th>1496</th>\n",
       "      <td>172.19</td>\n",
       "      <td>104.63</td>\n",
       "      <td>104.44</td>\n",
       "      <td>3.37</td>\n",
       "      <td>110.97</td>\n",
       "    </tr>\n",
       "    <tr>\n",
       "      <th>1497</th>\n",
       "      <td>171.80</td>\n",
       "      <td>104.01</td>\n",
       "      <td>104.12</td>\n",
       "      <td>3.36</td>\n",
       "      <td>111.95</td>\n",
       "    </tr>\n",
       "    <tr>\n",
       "      <th>1498</th>\n",
       "      <td>172.06</td>\n",
       "      <td>104.28</td>\n",
       "      <td>104.06</td>\n",
       "      <td>3.46</td>\n",
       "      <td>112.25</td>\n",
       "    </tr>\n",
       "    <tr>\n",
       "      <th>1499</th>\n",
       "      <td>171.47</td>\n",
       "      <td>104.15</td>\n",
       "      <td>103.82</td>\n",
       "      <td>3.37</td>\n",
       "      <td>112.07</td>\n",
       "    </tr>\n",
       "  </tbody>\n",
       "</table>\n",
       "<p>1463 rows × 5 columns</p>\n",
       "</div>"
      ],
      "text/plain": [
       "      diagonal  height_left  height_right  margin_up  length\n",
       "0       171.81       104.86        104.95       2.89  112.83\n",
       "1       171.46       103.36        103.66       2.99  113.09\n",
       "2       172.69       104.48        103.50       2.94  113.16\n",
       "3       171.36       103.91        103.94       3.01  113.51\n",
       "4       171.73       104.28        103.46       3.48  112.54\n",
       "...        ...          ...           ...        ...     ...\n",
       "1495    171.75       104.38        104.17       3.09  111.28\n",
       "1496    172.19       104.63        104.44       3.37  110.97\n",
       "1497    171.80       104.01        104.12       3.36  111.95\n",
       "1498    172.06       104.28        104.06       3.46  112.25\n",
       "1499    171.47       104.15        103.82       3.37  112.07\n",
       "\n",
       "[1463 rows x 5 columns]"
      ]
     },
     "execution_count": 12,
     "metadata": {},
     "output_type": "execute_result"
    }
   ],
   "source": [
    "X = df_global_complet[['diagonal', 'height_left', 'height_right','margin_up', 'length']]\n",
    "X"
   ]
  },
  {
   "cell_type": "code",
   "execution_count": 13,
   "id": "371517e1",
   "metadata": {
    "id": "371517e1",
    "outputId": "99cdad43-22e5-4d8f-a3d4-42318ff6de75"
   },
   "outputs": [
    {
     "data": {
      "text/plain": [
       "0       4.52\n",
       "1       3.77\n",
       "2       4.40\n",
       "3       3.62\n",
       "4       4.04\n",
       "        ... \n",
       "1495    4.42\n",
       "1496    5.27\n",
       "1497    5.51\n",
       "1498    5.17\n",
       "1499    4.63\n",
       "Name: margin_low, Length: 1463, dtype: float64"
      ]
     },
     "execution_count": 13,
     "metadata": {},
     "output_type": "execute_result"
    }
   ],
   "source": [
    "y = df_global_complet['margin_low']\n",
    "y"
   ]
  },
  {
   "cell_type": "code",
   "execution_count": 14,
   "id": "66fb3b16",
   "metadata": {
    "id": "66fb3b16"
   },
   "outputs": [],
   "source": [
    "X_train, X_test, y_train, y_test = train_test_split(X, y, test_size = 0.25)\n",
    "\n",
    "# Cette fonction sépare nos datas en 1 train set et 1 test set "
   ]
  },
  {
   "cell_type": "markdown",
   "id": "bee8ff62",
   "metadata": {},
   "source": [
    "### Dimension des sets "
   ]
  },
  {
   "cell_type": "code",
   "execution_count": 15,
   "id": "6b07b3e7",
   "metadata": {
    "id": "6b07b3e7",
    "outputId": "47d6c5d4-40bd-4f42-8948-8c48123566e0"
   },
   "outputs": [
    {
     "data": {
      "text/plain": [
       "(1097, 5)"
      ]
     },
     "execution_count": 15,
     "metadata": {},
     "output_type": "execute_result"
    }
   ],
   "source": [
    "X_train.shape"
   ]
  },
  {
   "cell_type": "code",
   "execution_count": 16,
   "id": "f4f5a456",
   "metadata": {
    "id": "f4f5a456",
    "outputId": "8ee663c8-6e18-4dec-d4eb-e78e629a026d"
   },
   "outputs": [
    {
     "data": {
      "text/plain": [
       "(366, 5)"
      ]
     },
     "execution_count": 16,
     "metadata": {},
     "output_type": "execute_result"
    }
   ],
   "source": [
    "X_test.shape"
   ]
  },
  {
   "cell_type": "code",
   "execution_count": 17,
   "id": "59f17ab0",
   "metadata": {
    "id": "59f17ab0",
    "outputId": "e2204702-1129-49c3-c307-e66bd9550424"
   },
   "outputs": [
    {
     "data": {
      "text/plain": [
       "(1097,)"
      ]
     },
     "execution_count": 17,
     "metadata": {},
     "output_type": "execute_result"
    }
   ],
   "source": [
    "y_train.shape"
   ]
  },
  {
   "cell_type": "code",
   "execution_count": 18,
   "id": "49d3cc8c",
   "metadata": {
    "id": "49d3cc8c",
    "outputId": "f2b2ac16-c50c-4e80-c3fe-442a2f39268f",
    "scrolled": true
   },
   "outputs": [
    {
     "data": {
      "text/plain": [
       "(366,)"
      ]
     },
     "execution_count": 18,
     "metadata": {},
     "output_type": "execute_result"
    }
   ],
   "source": [
    "y_test.shape"
   ]
  },
  {
   "cell_type": "markdown",
   "id": "374dda54",
   "metadata": {},
   "source": [
    "# Création et entrainement de la regression linéaire"
   ]
  },
  {
   "cell_type": "code",
   "execution_count": 19,
   "id": "eb0513a6",
   "metadata": {
    "id": "eb0513a6",
    "outputId": "11564dba-284d-4f4c-8444-04a28f1f25fe"
   },
   "outputs": [
    {
     "data": {
      "text/plain": [
       "LinearRegression()"
      ]
     },
     "execution_count": 19,
     "metadata": {},
     "output_type": "execute_result"
    }
   ],
   "source": [
    "regr = LinearRegression() # instanciation\n",
    "  \n",
    "regr.fit(X_train, y_train) #Entrainement\n"
   ]
  },
  {
   "cell_type": "code",
   "execution_count": 20,
   "id": "SVvIFfVP642f",
   "metadata": {
    "id": "SVvIFfVP642f",
    "scrolled": true
   },
   "outputs": [
    {
     "name": "stdout",
     "output_type": "stream",
     "text": [
      "0.47637691816198957\n"
     ]
    }
   ],
   "source": [
    "# Evaluation du modèle\n",
    "print(regr.score(X, y)) #Score, tester le modèle"
   ]
  },
  {
   "cell_type": "code",
   "execution_count": 21,
   "id": "bt7HVrVf634h",
   "metadata": {
    "id": "bt7HVrVf634h"
   },
   "outputs": [],
   "source": [
    "# Etude des residus\n",
    "prediction = regr.predict(X)\n",
    "residual = (y - prediction)"
   ]
  },
  {
   "cell_type": "code",
   "execution_count": 22,
   "id": "KRS0CLGC7Jt8",
   "metadata": {
    "id": "KRS0CLGC7Jt8"
   },
   "outputs": [
    {
     "data": {
      "text/plain": [
       "<AxesSubplot:>"
      ]
     },
     "execution_count": 22,
     "metadata": {},
     "output_type": "execute_result"
    },
    {
     "data": {
      "image/png": "[encoded data removed]",
      "text/plain": [
       "<Figure size 432x288 with 1 Axes>"
      ]
     },
     "metadata": {
      "needs_background": "light"
     },
     "output_type": "display_data"
    }
   ],
   "source": [
    "residual.hist()"
   ]
  },
  {
   "cell_type": "code",
   "execution_count": 23,
   "id": "xwjYc3rH7OSk",
   "metadata": {
    "id": "xwjYc3rH7OSk"
   },
   "outputs": [
    {
     "name": "stdout",
     "output_type": "stream",
     "text": [
      "1.195595358827184e-11\n"
     ]
    }
   ],
   "source": [
    "#appliquer le test de shapiro pour confirmer la normalité des residus\n",
    "from scipy.stats import shapiro\n",
    "x, pval = shapiro(residual)\n",
    "print(pval)"
   ]
  },
  {
   "cell_type": "markdown",
   "id": "1f31889a",
   "metadata": {},
   "source": [
    "La p- Value est inférieure à 0.05\n"
   ]
  },
  {
   "cell_type": "markdown",
   "id": "3b7a11ac",
   "metadata": {},
   "source": [
    "On rejette donc l'hypothèse nulle H0"
   ]
  },
  {
   "cell_type": "code",
   "execution_count": 24,
   "id": "OWa_eCht7lK3",
   "metadata": {
    "id": "OWa_eCht7lK3"
   },
   "outputs": [
    {
     "name": "stdout",
     "output_type": "stream",
     "text": [
      "                            OLS Regression Results                            \n",
      "==============================================================================\n",
      "Dep. Variable:             margin_low   R-squared:                       0.477\n",
      "Model:                            OLS   Adj. R-squared:                  0.476\n",
      "Method:                 Least Squares   F-statistic:                     266.1\n",
      "Date:                Tue, 27 Dec 2022   Prob (F-statistic):          2.60e-202\n",
      "Time:                        21:40:49   Log-Likelihood:                -1001.3\n",
      "No. Observations:                1463   AIC:                             2015.\n",
      "Df Residuals:                    1457   BIC:                             2046.\n",
      "Df Model:                           5                                         \n",
      "Covariance Type:            nonrobust                                         \n",
      "================================================================================\n",
      "                   coef    std err          t      P>|t|      [0.025      0.975]\n",
      "--------------------------------------------------------------------------------\n",
      "const           22.9948      9.656      2.382      0.017       4.055      41.935\n",
      "diagonal        -0.1111      0.041     -2.680      0.007      -0.192      -0.030\n",
      "height_left      0.1841      0.045      4.113      0.000       0.096       0.272\n",
      "height_right     0.2571      0.043      5.978      0.000       0.173       0.342\n",
      "margin_up        0.2562      0.064      3.980      0.000       0.130       0.382\n",
      "length          -0.4091      0.018    -22.627      0.000      -0.445      -0.374\n",
      "==============================================================================\n",
      "Omnibus:                       73.627   Durbin-Watson:                   1.893\n",
      "Prob(Omnibus):                  0.000   Jarque-Bera (JB):               95.862\n",
      "Skew:                           0.482   Prob(JB):                     1.53e-21\n",
      "Kurtosis:                       3.801   Cond. No.                     1.94e+05\n",
      "==============================================================================\n",
      "\n",
      "Notes:\n",
      "[1] Standard Errors assume that the covariance matrix of the errors is correctly specified.\n",
      "[2] The condition number is large, 1.94e+05. This might indicate that there are\n",
      "strong multicollinearity or other numerical problems.\n"
     ]
    }
   ],
   "source": [
    "# On peut rajouter un test de variance pour voir si les variables independantes sont signifiantes\n",
    "# pour expliquer la variable dependante\n",
    "import statsmodels.api as sm\n",
    "X2 = sm.add_constant(X)\n",
    "est = sm.OLS(y, X2)\n",
    "est2 = est.fit()\n",
    "print(est2.summary())"
   ]
  },
  {
   "cell_type": "markdown",
   "id": "2e8d8f03",
   "metadata": {},
   "source": [
    "coefficient de détermination R² est à 0.47 "
   ]
  },
  {
   "cell_type": "markdown",
   "id": "b253a714",
   "metadata": {},
   "source": [
    "On obtient un ceofficient de Durbin-Watson à 1.893, ce qui est proche de 2, indiquant zéro autocorrélation"
   ]
  },
  {
   "cell_type": "markdown",
   "id": "4b66f71c",
   "metadata": {},
   "source": [
    "### Breusch-Pagan"
   ]
  },
  {
   "cell_type": "code",
   "execution_count": 25,
   "id": "cda4572a",
   "metadata": {},
   "outputs": [
    {
     "data": {
      "text/plain": [
       "[('Lagrange multiplier statistic', 80.16261280174537),\n",
       " ('p-value', 7.75953521621434e-16),\n",
       " ('f-value', 16.89235884615231),\n",
       " ('f p-value', 2.922749656629398e-16)]"
      ]
     },
     "execution_count": 25,
     "metadata": {},
     "output_type": "execute_result"
    }
   ],
   "source": [
    "#perform Breusch-Pagan test\n",
    "names = ['Lagrange multiplier statistic', 'p-value',\n",
    "        'f-value', 'f p-value']\n",
    "test = sms.het_breuschpagan(est2.resid, est2.model.exog)\n",
    "\n",
    "lzip(names, test)"
   ]
  },
  {
   "cell_type": "markdown",
   "id": "45c0b16a",
   "metadata": {},
   "source": [
    "null hypothesis (H0): Homoscedasticity is present."
   ]
  },
  {
   "cell_type": "markdown",
   "id": "046b2077",
   "metadata": {},
   "source": [
    "La P-Value est inferieur à 0.05, On rejette donc l'hypothèse nulle H0 \n"
   ]
  },
  {
   "cell_type": "markdown",
   "id": "8f59c27e",
   "metadata": {},
   "source": [
    "Il y a donc absences d'homoscédasticité"
   ]
  },
  {
   "cell_type": "markdown",
   "id": "dce0371e",
   "metadata": {
    "id": "IMfjOCQG76Iz"
   },
   "source": [
    "# On utilise notre modèle pour determiner les valeurs manquantes"
   ]
  },
  {
   "cell_type": "code",
   "execution_count": 26,
   "id": "fb0121a4",
   "metadata": {
    "id": "fb0121a4",
    "outputId": "d22ca8ea-122b-4406-a46a-ab10fd93f66e",
    "scrolled": true
   },
   "outputs": [
    {
     "data": {
      "text/plain": [
       "array([3.89141618, 5.02609402, 3.97731934, 3.98849918, 4.14718356,\n",
       "       4.00143138, 4.69574163, 4.90401818, 3.82574816, 4.25879709,\n",
       "       4.07786336, 4.74780105, 4.99680996, 5.54955207, 4.15446664,\n",
       "       4.21059932, 4.13670561, 4.32561678, 4.7346256 , 4.26953556,\n",
       "       4.2222328 , 5.31089983, 4.94088127, 4.42664947, 4.73479218,\n",
       "       4.4540928 , 4.12266406, 5.32469015, 4.12654219, 5.09354796,\n",
       "       5.0055617 , 4.795065  , 4.65412194, 4.22906486, 4.34560158,\n",
       "       4.04404191, 4.20374103, 5.16076792, 4.24548345, 4.6117096 ,\n",
       "       4.92793286, 3.91985379, 4.87775511, 4.33518455, 4.12687321,\n",
       "       4.10041343, 4.89921732, 4.2578174 , 5.17964113, 4.94615112,\n",
       "       4.04221548, 4.35345243, 4.22640088, 5.10671957, 4.58446938,\n",
       "       4.46242736, 5.07441464, 4.24345434, 4.04973115, 5.06004195,\n",
       "       4.29710322, 5.04647117, 5.08288219, 4.20834337, 4.71189122,\n",
       "       4.9134073 , 4.26989535, 4.3573273 , 4.26209272, 4.13986638,\n",
       "       4.12053975, 4.52486014, 4.18619479, 3.97366772, 4.15152764,\n",
       "       5.26844171, 4.37564388, 4.09307517, 5.09463717, 4.4157928 ,\n",
       "       4.1550757 , 4.34978378, 4.3404806 , 4.4031074 , 3.99230412,\n",
       "       5.18118273, 4.16954295, 4.26063365, 4.29428162, 4.06261989,\n",
       "       4.03996819, 4.20994416, 4.54902834, 4.71753099, 4.73770832,\n",
       "       4.58658611, 4.17271895, 4.66454719, 5.08348946, 4.02207163,\n",
       "       4.23205902, 4.2941581 , 4.91461411, 4.27999528, 5.332159  ,\n",
       "       4.99328505, 4.955556  , 4.93656346, 4.13778675, 4.10347979,\n",
       "       4.01473225, 5.20112107, 4.17982425, 4.42614685, 5.55689685,\n",
       "       4.46821284, 4.41769061, 5.83579541, 4.93845133, 3.98582691,\n",
       "       4.08123419, 5.21916528, 4.25274022, 3.9904773 , 4.27453629,\n",
       "       5.44841178, 4.22563827, 4.27791242, 4.3576436 , 4.99764007,\n",
       "       4.34928833, 4.4188841 , 3.94113775, 4.11120717, 4.12209058,\n",
       "       4.96243949, 4.25837645, 5.29767965, 5.54563148, 4.08726858,\n",
       "       4.69039159, 4.17666613, 4.06256783, 4.37274595, 4.8549479 ,\n",
       "       4.15639067, 4.03572579, 5.12379894, 4.16161892, 4.16440053,\n",
       "       4.38024497, 4.28526414, 5.45594721, 4.05278858, 3.9952704 ,\n",
       "       4.40888587, 4.49644842, 4.185323  , 5.12780447, 4.40348063,\n",
       "       4.20116267, 4.03460512, 5.14132193, 5.05392993, 4.14919827,\n",
       "       4.15402058, 4.41631169, 5.54750406, 5.03688717, 4.19001137,\n",
       "       3.91247727, 4.08087572, 4.43647177, 5.35539449, 4.90093335,\n",
       "       4.13834092, 3.92450332, 4.51604809, 4.25806611, 5.09707907,\n",
       "       4.18823663, 4.29290279, 4.1814056 , 4.42734153, 4.63572297,\n",
       "       4.97805988, 3.8556573 , 4.11694815, 5.12683558, 4.03584187,\n",
       "       4.89458643, 4.09907588, 4.11945057, 4.20761864, 4.38080227,\n",
       "       4.30318302, 4.27604766, 4.90990972, 3.92366914, 3.87943692,\n",
       "       5.33222752, 4.32397823, 4.16153355, 4.03385057, 3.97819961,\n",
       "       4.03455806, 5.02606584, 4.19286799, 4.23634612, 4.20013964,\n",
       "       4.18573953, 3.76972105, 4.10381339, 4.46102269, 4.32916863,\n",
       "       4.76674981, 4.08779562, 5.06330975, 4.17590506, 3.90338465,\n",
       "       4.96228707, 4.20815477, 4.06383753, 4.17807586, 4.36704364,\n",
       "       4.22340888, 4.86789086, 4.16464553, 5.10378604, 4.33604668,\n",
       "       4.169844  , 4.11367323, 4.42071387, 4.18330019, 4.14416501,\n",
       "       4.10405074, 4.22488896, 4.49521553, 4.15656954, 4.25484688,\n",
       "       4.26772613, 4.3199367 , 3.9627603 , 4.40102714, 5.14540886,\n",
       "       4.5780831 , 4.55601676, 5.15597434, 5.2269752 , 5.56801122,\n",
       "       5.0056847 , 5.21628341, 4.51542349, 4.81254734, 4.48594437,\n",
       "       4.21544773, 4.73426135, 4.16562816, 4.25391865, 4.00643968,\n",
       "       4.21467374, 4.90399515, 4.29498255, 4.50867246, 4.30242501,\n",
       "       4.25636003, 4.56059798, 5.11386744, 4.18827774, 4.12149603,\n",
       "       4.84198633, 3.92160124, 4.44522761, 5.05675549, 4.40039532,\n",
       "       4.88742862, 4.9023366 , 4.39664962, 4.4331416 , 5.14589581,\n",
       "       4.00888379, 5.19757011, 4.05001857, 4.30232246, 4.49681722,\n",
       "       4.14847962, 5.14927805, 4.56482757, 4.10568524, 4.28109462,\n",
       "       4.96785411, 4.85743097, 4.06605542, 4.01495554, 4.33282893,\n",
       "       5.02884352, 4.33019444, 3.94526886, 5.66633964, 4.31947439,\n",
       "       4.84776071, 4.51676801, 4.14391117, 4.33780416, 3.96308116,\n",
       "       4.30636296, 5.41277199, 4.57068154, 4.31658996, 4.20208247,\n",
       "       5.18848421, 4.02187526, 4.40837635, 4.31718747, 4.62737953,\n",
       "       4.73461205, 4.05634486, 4.11293675, 4.20224538, 5.1185678 ,\n",
       "       4.23259108, 4.92451054, 4.23084803, 4.23788414, 4.37079968,\n",
       "       4.20143316, 4.57020905, 4.28851926, 3.91265966, 4.7372009 ,\n",
       "       4.22827767, 4.40348404, 3.98299866, 3.97727854, 4.08824677,\n",
       "       5.19928363, 4.37114438, 4.32793762, 4.10214635, 5.15242005,\n",
       "       4.19307435, 4.02252136, 4.16984537, 4.2729734 , 4.19564293,\n",
       "       4.27038266, 4.08155252, 4.35335877, 5.07554554, 4.24710436,\n",
       "       5.49697993, 3.94839234, 4.25963186, 4.31654359, 5.29209815,\n",
       "       5.28124136, 3.97512926, 3.88534604, 4.90335487, 5.16623127,\n",
       "       4.60156567, 4.47356093, 4.13947113, 4.59221792, 4.26163925,\n",
       "       4.85958482])"
      ]
     },
     "execution_count": 26,
     "metadata": {},
     "output_type": "execute_result"
    }
   ],
   "source": [
    "y_pred = regr.predict(X_test)\n",
    "y_pred\n"
   ]
  },
  {
   "cell_type": "code",
   "execution_count": 27,
   "id": "28033e8b",
   "metadata": {
    "id": "28033e8b",
    "outputId": "f83b11ef-f592-413e-dceb-6c85b9f91c21"
   },
   "outputs": [
    {
     "data": {
      "text/plain": [
       "555     4.47\n",
       "1345    6.16\n",
       "768     4.04\n",
       "299     4.24\n",
       "886     3.73\n",
       "        ... \n",
       "377     3.67\n",
       "238     3.74\n",
       "737     3.77\n",
       "60      3.71\n",
       "1349    5.77\n",
       "Name: margin_low, Length: 366, dtype: float64"
      ]
     },
     "execution_count": 27,
     "metadata": {},
     "output_type": "execute_result"
    }
   ],
   "source": [
    "y_test"
   ]
  },
  {
   "cell_type": "code",
   "execution_count": 28,
   "id": "74947f7c",
   "metadata": {
    "id": "74947f7c"
   },
   "outputs": [],
   "source": [
    "df_global_manquant['margin_low'] = regr.predict(df_global_manquant[['diagonal', 'height_left', 'height_right','margin_up', 'length']])"
   ]
  },
  {
   "cell_type": "markdown",
   "id": "3697a608",
   "metadata": {
    "id": "538fc52b"
   },
   "source": [
    "### On a ici les estimations pour compléter les valeurs manquantes "
   ]
  },
  {
   "cell_type": "code",
   "execution_count": 29,
   "id": "c78b8d0f",
   "metadata": {
    "id": "c78b8d0f",
    "outputId": "f79b74b0-f3fb-4a87-df5d-6db55da90bdd"
   },
   "outputs": [
    {
     "data": {
      "text/html": [
       "<div>\n",
       "<style scoped>\n",
       "    .dataframe tbody tr th:only-of-type {\n",
       "        vertical-align: middle;\n",
       "    }\n",
       "\n",
       "    .dataframe tbody tr th {\n",
       "        vertical-align: top;\n",
       "    }\n",
       "\n",
       "    .dataframe thead th {\n",
       "        text-align: right;\n",
       "    }\n",
       "</style>\n",
       "<table border=\"1\" class=\"dataframe\">\n",
       "  <thead>\n",
       "    <tr style=\"text-align: right;\">\n",
       "      <th></th>\n",
       "      <th>is_genuine</th>\n",
       "      <th>diagonal</th>\n",
       "      <th>height_left</th>\n",
       "      <th>height_right</th>\n",
       "      <th>margin_low</th>\n",
       "      <th>margin_up</th>\n",
       "      <th>length</th>\n",
       "    </tr>\n",
       "  </thead>\n",
       "  <tbody>\n",
       "    <tr>\n",
       "      <th>0</th>\n",
       "      <td>True</td>\n",
       "      <td>171.81</td>\n",
       "      <td>104.86</td>\n",
       "      <td>104.95</td>\n",
       "      <td>4.520000</td>\n",
       "      <td>2.89</td>\n",
       "      <td>112.83</td>\n",
       "    </tr>\n",
       "    <tr>\n",
       "      <th>1</th>\n",
       "      <td>True</td>\n",
       "      <td>171.46</td>\n",
       "      <td>103.36</td>\n",
       "      <td>103.66</td>\n",
       "      <td>3.770000</td>\n",
       "      <td>2.99</td>\n",
       "      <td>113.09</td>\n",
       "    </tr>\n",
       "    <tr>\n",
       "      <th>2</th>\n",
       "      <td>True</td>\n",
       "      <td>172.69</td>\n",
       "      <td>104.48</td>\n",
       "      <td>103.50</td>\n",
       "      <td>4.400000</td>\n",
       "      <td>2.94</td>\n",
       "      <td>113.16</td>\n",
       "    </tr>\n",
       "    <tr>\n",
       "      <th>3</th>\n",
       "      <td>True</td>\n",
       "      <td>171.36</td>\n",
       "      <td>103.91</td>\n",
       "      <td>103.94</td>\n",
       "      <td>3.620000</td>\n",
       "      <td>3.01</td>\n",
       "      <td>113.51</td>\n",
       "    </tr>\n",
       "    <tr>\n",
       "      <th>4</th>\n",
       "      <td>True</td>\n",
       "      <td>171.73</td>\n",
       "      <td>104.28</td>\n",
       "      <td>103.46</td>\n",
       "      <td>4.040000</td>\n",
       "      <td>3.48</td>\n",
       "      <td>112.54</td>\n",
       "    </tr>\n",
       "    <tr>\n",
       "      <th>...</th>\n",
       "      <td>...</td>\n",
       "      <td>...</td>\n",
       "      <td>...</td>\n",
       "      <td>...</td>\n",
       "      <td>...</td>\n",
       "      <td>...</td>\n",
       "      <td>...</td>\n",
       "    </tr>\n",
       "    <tr>\n",
       "      <th>1303</th>\n",
       "      <td>False</td>\n",
       "      <td>172.17</td>\n",
       "      <td>104.49</td>\n",
       "      <td>103.76</td>\n",
       "      <td>5.012429</td>\n",
       "      <td>2.93</td>\n",
       "      <td>111.21</td>\n",
       "    </tr>\n",
       "    <tr>\n",
       "      <th>1315</th>\n",
       "      <td>False</td>\n",
       "      <td>172.08</td>\n",
       "      <td>104.15</td>\n",
       "      <td>104.17</td>\n",
       "      <td>4.770806</td>\n",
       "      <td>3.40</td>\n",
       "      <td>112.29</td>\n",
       "    </tr>\n",
       "    <tr>\n",
       "      <th>1347</th>\n",
       "      <td>False</td>\n",
       "      <td>171.72</td>\n",
       "      <td>104.46</td>\n",
       "      <td>104.12</td>\n",
       "      <td>5.676590</td>\n",
       "      <td>3.61</td>\n",
       "      <td>110.31</td>\n",
       "    </tr>\n",
       "    <tr>\n",
       "      <th>1435</th>\n",
       "      <td>False</td>\n",
       "      <td>172.66</td>\n",
       "      <td>104.33</td>\n",
       "      <td>104.41</td>\n",
       "      <td>5.184526</td>\n",
       "      <td>3.56</td>\n",
       "      <td>111.47</td>\n",
       "    </tr>\n",
       "    <tr>\n",
       "      <th>1438</th>\n",
       "      <td>False</td>\n",
       "      <td>171.90</td>\n",
       "      <td>104.28</td>\n",
       "      <td>104.29</td>\n",
       "      <td>5.110127</td>\n",
       "      <td>3.24</td>\n",
       "      <td>111.49</td>\n",
       "    </tr>\n",
       "  </tbody>\n",
       "</table>\n",
       "<p>1500 rows × 7 columns</p>\n",
       "</div>"
      ],
      "text/plain": [
       "      is_genuine  diagonal  height_left  height_right  margin_low  margin_up  \\\n",
       "0           True    171.81       104.86        104.95    4.520000       2.89   \n",
       "1           True    171.46       103.36        103.66    3.770000       2.99   \n",
       "2           True    172.69       104.48        103.50    4.400000       2.94   \n",
       "3           True    171.36       103.91        103.94    3.620000       3.01   \n",
       "4           True    171.73       104.28        103.46    4.040000       3.48   \n",
       "...          ...       ...          ...           ...         ...        ...   \n",
       "1303       False    172.17       104.49        103.76    5.012429       2.93   \n",
       "1315       False    172.08       104.15        104.17    4.770806       3.40   \n",
       "1347       False    171.72       104.46        104.12    5.676590       3.61   \n",
       "1435       False    172.66       104.33        104.41    5.184526       3.56   \n",
       "1438       False    171.90       104.28        104.29    5.110127       3.24   \n",
       "\n",
       "      length  \n",
       "0     112.83  \n",
       "1     113.09  \n",
       "2     113.16  \n",
       "3     113.51  \n",
       "4     112.54  \n",
       "...      ...  \n",
       "1303  111.21  \n",
       "1315  112.29  \n",
       "1347  110.31  \n",
       "1435  111.47  \n",
       "1438  111.49  \n",
       "\n",
       "[1500 rows x 7 columns]"
      ]
     },
     "execution_count": 29,
     "metadata": {},
     "output_type": "execute_result"
    }
   ],
   "source": [
    "df_global_Full = pd.concat([df_global_complet, df_global_manquant])\n",
    "df_global_Full "
   ]
  },
  {
   "cell_type": "markdown",
   "id": "f4b1e85a",
   "metadata": {
    "id": "f4b1e85a"
   },
   "source": [
    "# "
   ]
  },
  {
   "cell_type": "markdown",
   "id": "b2439149",
   "metadata": {},
   "source": [
    "# Classification Authenticité des billets"
   ]
  },
  {
   "cell_type": "code",
   "execution_count": 30,
   "id": "2b3764f9",
   "metadata": {
    "id": "2b3764f9",
    "outputId": "f621b0b1-f34f-4f01-d6d3-2a95cd7159c3"
   },
   "outputs": [
    {
     "data": {
      "text/plain": [
       "array([[-0.35714286,  2.        ,  2.34090909, -0.78125   ,  0.24705882,\n",
       "        -0.09923664],\n",
       "       [-1.19047619, -1.65853659, -0.59090909, -0.46875   , -0.63529412,\n",
       "         0.09923664],\n",
       "       [ 1.73809524,  1.07317073, -0.95454545, -0.625     ,  0.10588235,\n",
       "         0.15267176],\n",
       "       ...,\n",
       "       [-0.57142857,  1.02439024,  0.45454545,  1.46875   ,  1.6077531 ,\n",
       "        -2.02290076],\n",
       "       [ 1.66666667,  0.70731707,  1.11363636,  1.3125    ,  1.02885397,\n",
       "        -1.13740458],\n",
       "       [-0.14285714,  0.58536585,  0.84090909,  0.3125    ,  0.94132619,\n",
       "        -1.1221374 ]])"
      ]
     },
     "execution_count": 30,
     "metadata": {},
     "output_type": "execute_result"
    }
   ],
   "source": [
    "#on va d'utiliser la fonction robust scaler pour normaliser les données  qui en theorie gere mieux les outliers\n",
    "X_proj = df_global_Full[['diagonal', 'height_left', 'height_right','margin_up','margin_low', 'length']]\n",
    "X = X_proj.values\n",
    "transformer = RobustScaler().fit(X)\n",
    "X_scaled = transformer.transform(X)\n",
    "#df_test[\"Pred_Reg_Log\"] =\n",
    "X_scaled "
   ]
  },
  {
   "cell_type": "code",
   "execution_count": 31,
   "id": "5f18eecc",
   "metadata": {
    "id": "5f18eecc",
    "outputId": "60c0c57e-59b7-44b6-a119-d360c5b84347"
   },
   "outputs": [
    {
     "data": {
      "text/plain": [
       "PCA()"
      ]
     },
     "execution_count": 31,
     "metadata": {},
     "output_type": "execute_result"
    }
   ],
   "source": [
    "# Appliquer l'ACP\n",
    "\n",
    "\n",
    "#on instancie le pca\n",
    "pca = PCA()\n",
    "\n",
    "#on applique le pca sur nos données \n",
    "pca.fit(X_scaled)"
   ]
  },
  {
   "cell_type": "code",
   "execution_count": 32,
   "id": "af65eab2",
   "metadata": {
    "id": "af65eab2",
    "outputId": "0e1d4490-a850-458f-a8a2-f6e9117aa720",
    "scrolled": false
   },
   "outputs": [
    {
     "data": {
      "image/png": "[encoded data removed]",
      "text/plain": [
       "<Figure size 720x576 with 1 Axes>"
      ]
     },
     "metadata": {
      "needs_background": "light"
     },
     "output_type": "display_data"
    }
   ],
   "source": [
    "x_y = [0,1]\n",
    "X_proj = pca.transform(X_scaled)\n",
    "X_proj = X_proj[:,:2]\n",
    "display_factorial_planes(X_proj, x_y)"
   ]
  },
  {
   "cell_type": "code",
   "execution_count": 33,
   "id": "e5fc3757",
   "metadata": {
    "scrolled": true
   },
   "outputs": [
    {
     "data": {
      "image/png": "[encoded data removed]",
      "text/plain": [
       "<Figure size 432x288 with 1 Axes>"
      ]
     },
     "metadata": {
      "needs_background": "light"
     },
     "output_type": "display_data"
    }
   ],
   "source": [
    "# Eboulis des valeurs propres\n",
    "display_scree_plot(pca)\n",
    "\n",
    "plt.show()"
   ]
  },
  {
   "cell_type": "code",
   "execution_count": 34,
   "id": "ba51e035",
   "metadata": {},
   "outputs": [
    {
     "data": {
      "image/png": "[encoded data removed]",
      "text/plain": [
       "<Figure size 720x648 with 1 Axes>"
      ]
     },
     "metadata": {
      "needs_background": "light"
     },
     "output_type": "display_data"
    }
   ],
   "source": [
    "x_y=[0,1]\n",
    "features=df_global.columns\n",
    "correlation_graph(pca, x_y,features)"
   ]
  },
  {
   "cell_type": "markdown",
   "id": "3696798f",
   "metadata": {},
   "source": [
    "### VIF"
   ]
  },
  {
   "cell_type": "code",
   "execution_count": 35,
   "id": "24b592d0",
   "metadata": {},
   "outputs": [
    {
     "name": "stdout",
     "output_type": "stream",
     "text": [
      "        feature            VIF\n",
      "0      diagonal  169578.726969\n",
      "1   height_left  115398.377062\n",
      "2  height_right  104433.896701\n",
      "3     margin_up     263.804874\n",
      "4    margin_low      91.114406\n",
      "5        length   31376.000601\n"
     ]
    }
   ],
   "source": [
    "# the independent variables set\n",
    "X = df_global_Full[['diagonal', 'height_left', 'height_right','margin_up','margin_low', 'length']]\n",
    "  \n",
    "# VIF dataframe\n",
    "vif_data = pd.DataFrame()\n",
    "vif_data[\"feature\"] = X.columns\n",
    "  \n",
    "# calculating VIF for each feature\n",
    "vif_data[\"VIF\"] = [variance_inflation_factor(X.values, i)\n",
    "                          for i in range(len(X.columns))]\n",
    "  \n",
    "print(vif_data)"
   ]
  },
  {
   "cell_type": "markdown",
   "id": "3774c410",
   "metadata": {},
   "source": [
    "On peut voir ici que les variables Diagonal, Height_Left et Heigh_Right sont fortement corrélées entre elles "
   ]
  },
  {
   "cell_type": "markdown",
   "id": "1b998dd9",
   "metadata": {},
   "source": [
    "## K-Means"
   ]
  },
  {
   "cell_type": "code",
   "execution_count": 36,
   "id": "48116652",
   "metadata": {
    "id": "48116652"
   },
   "outputs": [],
   "source": [
    "# On utilisera donc toutes nos information afin de detecter \"Is_Genuine\" via un modèle.\n",
    "\n",
    "X_proj = df_global_Full[['diagonal', 'height_left', 'height_right','margin_up','margin_low', 'length']]"
   ]
  },
  {
   "cell_type": "code",
   "execution_count": 37,
   "id": "cccdd9ac",
   "metadata": {
    "id": "cccdd9ac",
    "outputId": "9d6419bf-a7a4-4a43-c3ed-4d611611f084"
   },
   "outputs": [
    {
     "data": {
      "image/png": "[encoded data removed]",
      "text/plain": [
       "<Figure size 864x432 with 1 Axes>"
      ]
     },
     "metadata": {
      "needs_background": "light"
     },
     "output_type": "display_data"
    }
   ],
   "source": [
    "# Utiliser la méthode du coude pour determiner le nombre des clusters\n",
    "inertia = []\n",
    "k_list = range(1, 10)\n",
    "list(k_list)\n",
    "for i in k_list :\n",
    "  kmeans = KMeans(n_clusters=i)\n",
    "  kmeans.fit(X_proj) \n",
    "  inertia.append(kmeans.inertia_)\n",
    "fig, ax = plt.subplots(1,1,figsize=(12,6))\n",
    "ax.set_ylabel(\"inertia\")\n",
    "ax.set_xlabel(\"n_cluster\")\n",
    "ax = plt.plot(k_list, inertia)"
   ]
  },
  {
   "cell_type": "code",
   "execution_count": 38,
   "id": "10b66a53",
   "metadata": {
    "id": "10b66a53",
    "outputId": "93d4c1cf-fcb7-4f37-d91f-707fd4a2d357"
   },
   "outputs": [
    {
     "data": {
      "text/plain": [
       "KMeans(n_clusters=2)"
      ]
     },
     "execution_count": 38,
     "metadata": {},
     "output_type": "execute_result"
    }
   ],
   "source": [
    "# D'apres la courbe, on peut avoir 2 clusters \n",
    "# On entraine donc un modèle K-means à 2 clusters\n",
    "\n",
    "kmeans = KMeans(n_clusters=2)\n",
    "kmeans.fit(X_proj)"
   ]
  },
  {
   "cell_type": "code",
   "execution_count": 39,
   "id": "c8460aad",
   "metadata": {
    "id": "c8460aad",
    "outputId": "6dc37e42-fe3f-4865-d054-f723dba42421",
    "scrolled": true
   },
   "outputs": [
    {
     "data": {
      "text/html": [
       "<div>\n",
       "<style scoped>\n",
       "    .dataframe tbody tr th:only-of-type {\n",
       "        vertical-align: middle;\n",
       "    }\n",
       "\n",
       "    .dataframe tbody tr th {\n",
       "        vertical-align: top;\n",
       "    }\n",
       "\n",
       "    .dataframe thead th {\n",
       "        text-align: right;\n",
       "    }\n",
       "</style>\n",
       "<table border=\"1\" class=\"dataframe\">\n",
       "  <thead>\n",
       "    <tr style=\"text-align: right;\">\n",
       "      <th></th>\n",
       "      <th>is_genuine</th>\n",
       "      <th>diagonal</th>\n",
       "      <th>height_left</th>\n",
       "      <th>height_right</th>\n",
       "      <th>margin_low</th>\n",
       "      <th>margin_up</th>\n",
       "      <th>length</th>\n",
       "      <th>Cluster</th>\n",
       "    </tr>\n",
       "  </thead>\n",
       "  <tbody>\n",
       "    <tr>\n",
       "      <th>0</th>\n",
       "      <td>True</td>\n",
       "      <td>171.81</td>\n",
       "      <td>104.86</td>\n",
       "      <td>104.95</td>\n",
       "      <td>4.520000</td>\n",
       "      <td>2.89</td>\n",
       "      <td>112.83</td>\n",
       "      <td>1</td>\n",
       "    </tr>\n",
       "    <tr>\n",
       "      <th>1</th>\n",
       "      <td>True</td>\n",
       "      <td>171.46</td>\n",
       "      <td>103.36</td>\n",
       "      <td>103.66</td>\n",
       "      <td>3.770000</td>\n",
       "      <td>2.99</td>\n",
       "      <td>113.09</td>\n",
       "      <td>1</td>\n",
       "    </tr>\n",
       "    <tr>\n",
       "      <th>2</th>\n",
       "      <td>True</td>\n",
       "      <td>172.69</td>\n",
       "      <td>104.48</td>\n",
       "      <td>103.50</td>\n",
       "      <td>4.400000</td>\n",
       "      <td>2.94</td>\n",
       "      <td>113.16</td>\n",
       "      <td>1</td>\n",
       "    </tr>\n",
       "    <tr>\n",
       "      <th>3</th>\n",
       "      <td>True</td>\n",
       "      <td>171.36</td>\n",
       "      <td>103.91</td>\n",
       "      <td>103.94</td>\n",
       "      <td>3.620000</td>\n",
       "      <td>3.01</td>\n",
       "      <td>113.51</td>\n",
       "      <td>1</td>\n",
       "    </tr>\n",
       "    <tr>\n",
       "      <th>4</th>\n",
       "      <td>True</td>\n",
       "      <td>171.73</td>\n",
       "      <td>104.28</td>\n",
       "      <td>103.46</td>\n",
       "      <td>4.040000</td>\n",
       "      <td>3.48</td>\n",
       "      <td>112.54</td>\n",
       "      <td>1</td>\n",
       "    </tr>\n",
       "    <tr>\n",
       "      <th>...</th>\n",
       "      <td>...</td>\n",
       "      <td>...</td>\n",
       "      <td>...</td>\n",
       "      <td>...</td>\n",
       "      <td>...</td>\n",
       "      <td>...</td>\n",
       "      <td>...</td>\n",
       "      <td>...</td>\n",
       "    </tr>\n",
       "    <tr>\n",
       "      <th>1303</th>\n",
       "      <td>False</td>\n",
       "      <td>172.17</td>\n",
       "      <td>104.49</td>\n",
       "      <td>103.76</td>\n",
       "      <td>5.012429</td>\n",
       "      <td>2.93</td>\n",
       "      <td>111.21</td>\n",
       "      <td>0</td>\n",
       "    </tr>\n",
       "    <tr>\n",
       "      <th>1315</th>\n",
       "      <td>False</td>\n",
       "      <td>172.08</td>\n",
       "      <td>104.15</td>\n",
       "      <td>104.17</td>\n",
       "      <td>4.770806</td>\n",
       "      <td>3.40</td>\n",
       "      <td>112.29</td>\n",
       "      <td>0</td>\n",
       "    </tr>\n",
       "    <tr>\n",
       "      <th>1347</th>\n",
       "      <td>False</td>\n",
       "      <td>171.72</td>\n",
       "      <td>104.46</td>\n",
       "      <td>104.12</td>\n",
       "      <td>5.676590</td>\n",
       "      <td>3.61</td>\n",
       "      <td>110.31</td>\n",
       "      <td>0</td>\n",
       "    </tr>\n",
       "    <tr>\n",
       "      <th>1435</th>\n",
       "      <td>False</td>\n",
       "      <td>172.66</td>\n",
       "      <td>104.33</td>\n",
       "      <td>104.41</td>\n",
       "      <td>5.184526</td>\n",
       "      <td>3.56</td>\n",
       "      <td>111.47</td>\n",
       "      <td>0</td>\n",
       "    </tr>\n",
       "    <tr>\n",
       "      <th>1438</th>\n",
       "      <td>False</td>\n",
       "      <td>171.90</td>\n",
       "      <td>104.28</td>\n",
       "      <td>104.29</td>\n",
       "      <td>5.110127</td>\n",
       "      <td>3.24</td>\n",
       "      <td>111.49</td>\n",
       "      <td>0</td>\n",
       "    </tr>\n",
       "  </tbody>\n",
       "</table>\n",
       "<p>1500 rows × 8 columns</p>\n",
       "</div>"
      ],
      "text/plain": [
       "      is_genuine  diagonal  height_left  height_right  margin_low  margin_up  \\\n",
       "0           True    171.81       104.86        104.95    4.520000       2.89   \n",
       "1           True    171.46       103.36        103.66    3.770000       2.99   \n",
       "2           True    172.69       104.48        103.50    4.400000       2.94   \n",
       "3           True    171.36       103.91        103.94    3.620000       3.01   \n",
       "4           True    171.73       104.28        103.46    4.040000       3.48   \n",
       "...          ...       ...          ...           ...         ...        ...   \n",
       "1303       False    172.17       104.49        103.76    5.012429       2.93   \n",
       "1315       False    172.08       104.15        104.17    4.770806       3.40   \n",
       "1347       False    171.72       104.46        104.12    5.676590       3.61   \n",
       "1435       False    172.66       104.33        104.41    5.184526       3.56   \n",
       "1438       False    171.90       104.28        104.29    5.110127       3.24   \n",
       "\n",
       "      length  Cluster  \n",
       "0     112.83        1  \n",
       "1     113.09        1  \n",
       "2     113.16        1  \n",
       "3     113.51        1  \n",
       "4     112.54        1  \n",
       "...      ...      ...  \n",
       "1303  111.21        0  \n",
       "1315  112.29        0  \n",
       "1347  110.31        0  \n",
       "1435  111.47        0  \n",
       "1438  111.49        0  \n",
       "\n",
       "[1500 rows x 8 columns]"
      ]
     },
     "execution_count": 39,
     "metadata": {},
     "output_type": "execute_result"
    }
   ],
   "source": [
    "# On Injecte le cluster associé au K-means\n",
    "\n",
    "df_global_Full['Cluster']=kmeans.labels_\n",
    "df_global_Full"
   ]
  },
  {
   "cell_type": "code",
   "execution_count": 40,
   "id": "aaee900c",
   "metadata": {
    "id": "aaee900c",
    "outputId": "d368085f-3d9d-4560-d548-438d228c29f6",
    "scrolled": true
   },
   "outputs": [
    {
     "data": {
      "text/plain": [
       "array([[481,  19],\n",
       "       [  2, 998]], dtype=int64)"
      ]
     },
     "execution_count": 40,
     "metadata": {},
     "output_type": "execute_result"
    }
   ],
   "source": [
    "# On peut donc comparer les performances de notre modèle\n",
    "\n",
    "matrix = confusion_matrix(y_true=df_global_Full['is_genuine'], y_pred=df_global_Full['Cluster'])\n",
    "matrix"
   ]
  },
  {
   "cell_type": "code",
   "execution_count": 41,
   "id": "289abf4a",
   "metadata": {},
   "outputs": [
    {
     "data": {
      "image/png": "[encoded data removed]",
      "text/plain": [
       "<Figure size 432x288 with 2 Axes>"
      ]
     },
     "metadata": {
      "needs_background": "light"
     },
     "output_type": "display_data"
    }
   ],
   "source": [
    "disp = ConfusionMatrixDisplay(confusion_matrix=matrix)\n",
    "disp.plot()\n",
    "\n",
    "plt.show()"
   ]
  },
  {
   "cell_type": "raw",
   "id": "c3d56c27",
   "metadata": {
    "id": "c3d56c27"
   },
   "source": [
    "on a 19 faux billet qui ne sont pas classifiés en tant que tel et 3 vrai billets qui ne sont pas classifié en temps que tel "
   ]
  },
  {
   "cell_type": "code",
   "execution_count": 42,
   "id": "ddbff111",
   "metadata": {
    "id": "ddbff111",
    "outputId": "0cc4ce61-7a57-4634-c5ec-13d424fd2e48",
    "scrolled": true
   },
   "outputs": [
    {
     "data": {
      "image/png": "[encoded data removed]",
      "text/plain": [
       "<Figure size 720x576 with 1 Axes>"
      ]
     },
     "metadata": {
      "needs_background": "light"
     },
     "output_type": "display_data"
    }
   ],
   "source": [
    "x_y = [0,1]\n",
    "X_proj = pca.transform(X_scaled)\n",
    "X_proj = X_proj[:,:2]\n",
    "display_factorial_planes(X_proj, x_y,clusters = kmeans.labels_ )"
   ]
  },
  {
   "cell_type": "raw",
   "id": "d7f99de2",
   "metadata": {
    "id": "d7f99de2"
   },
   "source": [
    "pour la regression logistique on utilise a la place du margin low le ' is genuine' puisque la regression logistique gere les variables qualitatives ( regrettion lineaire = quantitatives only)"
   ]
  },
  {
   "cell_type": "markdown",
   "id": "b345a453",
   "metadata": {
    "id": "b345a453"
   },
   "source": [
    "# Logistic Regression"
   ]
  },
  {
   "cell_type": "code",
   "execution_count": 43,
   "id": "338a85bb",
   "metadata": {
    "id": "338a85bb",
    "outputId": "51c01cb8-869d-4d66-f89b-c5d19781a7aa"
   },
   "outputs": [
    {
     "data": {
      "text/html": [
       "<div>\n",
       "<style scoped>\n",
       "    .dataframe tbody tr th:only-of-type {\n",
       "        vertical-align: middle;\n",
       "    }\n",
       "\n",
       "    .dataframe tbody tr th {\n",
       "        vertical-align: top;\n",
       "    }\n",
       "\n",
       "    .dataframe thead th {\n",
       "        text-align: right;\n",
       "    }\n",
       "</style>\n",
       "<table border=\"1\" class=\"dataframe\">\n",
       "  <thead>\n",
       "    <tr style=\"text-align: right;\">\n",
       "      <th></th>\n",
       "      <th>is_genuine</th>\n",
       "      <th>diagonal</th>\n",
       "      <th>height_left</th>\n",
       "      <th>height_right</th>\n",
       "      <th>margin_low</th>\n",
       "      <th>margin_up</th>\n",
       "      <th>length</th>\n",
       "    </tr>\n",
       "  </thead>\n",
       "  <tbody>\n",
       "    <tr>\n",
       "      <th>0</th>\n",
       "      <td>True</td>\n",
       "      <td>171.81</td>\n",
       "      <td>104.86</td>\n",
       "      <td>104.95</td>\n",
       "      <td>4.52</td>\n",
       "      <td>2.89</td>\n",
       "      <td>112.83</td>\n",
       "    </tr>\n",
       "    <tr>\n",
       "      <th>1</th>\n",
       "      <td>True</td>\n",
       "      <td>171.46</td>\n",
       "      <td>103.36</td>\n",
       "      <td>103.66</td>\n",
       "      <td>3.77</td>\n",
       "      <td>2.99</td>\n",
       "      <td>113.09</td>\n",
       "    </tr>\n",
       "    <tr>\n",
       "      <th>2</th>\n",
       "      <td>True</td>\n",
       "      <td>172.69</td>\n",
       "      <td>104.48</td>\n",
       "      <td>103.50</td>\n",
       "      <td>4.40</td>\n",
       "      <td>2.94</td>\n",
       "      <td>113.16</td>\n",
       "    </tr>\n",
       "    <tr>\n",
       "      <th>3</th>\n",
       "      <td>True</td>\n",
       "      <td>171.36</td>\n",
       "      <td>103.91</td>\n",
       "      <td>103.94</td>\n",
       "      <td>3.62</td>\n",
       "      <td>3.01</td>\n",
       "      <td>113.51</td>\n",
       "    </tr>\n",
       "    <tr>\n",
       "      <th>4</th>\n",
       "      <td>True</td>\n",
       "      <td>171.73</td>\n",
       "      <td>104.28</td>\n",
       "      <td>103.46</td>\n",
       "      <td>4.04</td>\n",
       "      <td>3.48</td>\n",
       "      <td>112.54</td>\n",
       "    </tr>\n",
       "    <tr>\n",
       "      <th>...</th>\n",
       "      <td>...</td>\n",
       "      <td>...</td>\n",
       "      <td>...</td>\n",
       "      <td>...</td>\n",
       "      <td>...</td>\n",
       "      <td>...</td>\n",
       "      <td>...</td>\n",
       "    </tr>\n",
       "    <tr>\n",
       "      <th>1495</th>\n",
       "      <td>False</td>\n",
       "      <td>171.75</td>\n",
       "      <td>104.38</td>\n",
       "      <td>104.17</td>\n",
       "      <td>4.42</td>\n",
       "      <td>3.09</td>\n",
       "      <td>111.28</td>\n",
       "    </tr>\n",
       "    <tr>\n",
       "      <th>1496</th>\n",
       "      <td>False</td>\n",
       "      <td>172.19</td>\n",
       "      <td>104.63</td>\n",
       "      <td>104.44</td>\n",
       "      <td>5.27</td>\n",
       "      <td>3.37</td>\n",
       "      <td>110.97</td>\n",
       "    </tr>\n",
       "    <tr>\n",
       "      <th>1497</th>\n",
       "      <td>False</td>\n",
       "      <td>171.80</td>\n",
       "      <td>104.01</td>\n",
       "      <td>104.12</td>\n",
       "      <td>5.51</td>\n",
       "      <td>3.36</td>\n",
       "      <td>111.95</td>\n",
       "    </tr>\n",
       "    <tr>\n",
       "      <th>1498</th>\n",
       "      <td>False</td>\n",
       "      <td>172.06</td>\n",
       "      <td>104.28</td>\n",
       "      <td>104.06</td>\n",
       "      <td>5.17</td>\n",
       "      <td>3.46</td>\n",
       "      <td>112.25</td>\n",
       "    </tr>\n",
       "    <tr>\n",
       "      <th>1499</th>\n",
       "      <td>False</td>\n",
       "      <td>171.47</td>\n",
       "      <td>104.15</td>\n",
       "      <td>103.82</td>\n",
       "      <td>4.63</td>\n",
       "      <td>3.37</td>\n",
       "      <td>112.07</td>\n",
       "    </tr>\n",
       "  </tbody>\n",
       "</table>\n",
       "<p>1463 rows × 7 columns</p>\n",
       "</div>"
      ],
      "text/plain": [
       "      is_genuine  diagonal  height_left  height_right  margin_low  margin_up  \\\n",
       "0           True    171.81       104.86        104.95        4.52       2.89   \n",
       "1           True    171.46       103.36        103.66        3.77       2.99   \n",
       "2           True    172.69       104.48        103.50        4.40       2.94   \n",
       "3           True    171.36       103.91        103.94        3.62       3.01   \n",
       "4           True    171.73       104.28        103.46        4.04       3.48   \n",
       "...          ...       ...          ...           ...         ...        ...   \n",
       "1495       False    171.75       104.38        104.17        4.42       3.09   \n",
       "1496       False    172.19       104.63        104.44        5.27       3.37   \n",
       "1497       False    171.80       104.01        104.12        5.51       3.36   \n",
       "1498       False    172.06       104.28        104.06        5.17       3.46   \n",
       "1499       False    171.47       104.15        103.82        4.63       3.37   \n",
       "\n",
       "      length  \n",
       "0     112.83  \n",
       "1     113.09  \n",
       "2     113.16  \n",
       "3     113.51  \n",
       "4     112.54  \n",
       "...      ...  \n",
       "1495  111.28  \n",
       "1496  110.97  \n",
       "1497  111.95  \n",
       "1498  112.25  \n",
       "1499  112.07  \n",
       "\n",
       "[1463 rows x 7 columns]"
      ]
     },
     "execution_count": 43,
     "metadata": {},
     "output_type": "execute_result"
    }
   ],
   "source": [
    "df_global_complet"
   ]
  },
  {
   "cell_type": "code",
   "execution_count": 44,
   "id": "7ce1b4ea",
   "metadata": {
    "id": "7ce1b4ea",
    "outputId": "387732d9-1270-41b3-d290-49aad18e8047"
   },
   "outputs": [
    {
     "data": {
      "text/plain": [
       "0        True\n",
       "1        True\n",
       "2        True\n",
       "3        True\n",
       "4        True\n",
       "        ...  \n",
       "1495    False\n",
       "1496    False\n",
       "1497    False\n",
       "1498    False\n",
       "1499    False\n",
       "Name: is_genuine, Length: 1500, dtype: bool"
      ]
     },
     "execution_count": 44,
     "metadata": {},
     "output_type": "execute_result"
    }
   ],
   "source": [
    "y_Gen = df_global_Full['is_genuine']\n",
    "y_Gen = y_Gen.sort_index()\n",
    "y_Gen "
   ]
  },
  {
   "cell_type": "code",
   "execution_count": 45,
   "id": "e40971b0",
   "metadata": {
    "id": "e40971b0",
    "outputId": "67736783-7bfc-45fb-8d86-2134474d1080"
   },
   "outputs": [
    {
     "data": {
      "text/plain": [
       "array([1, 1, 1, ..., 0, 0, 0], dtype=int64)"
      ]
     },
     "execution_count": 45,
     "metadata": {},
     "output_type": "execute_result"
    }
   ],
   "source": [
    "le = LabelEncoder()\n",
    "y_Gen = le.fit_transform(y_Gen)\n",
    "\n",
    "y_Gen"
   ]
  },
  {
   "cell_type": "code",
   "execution_count": 46,
   "id": "3afd7d5a",
   "metadata": {
    "id": "3afd7d5a",
    "outputId": "9bca48cb-5e71-4df9-ddb2-ca15eaef613c"
   },
   "outputs": [
    {
     "data": {
      "text/html": [
       "<div>\n",
       "<style scoped>\n",
       "    .dataframe tbody tr th:only-of-type {\n",
       "        vertical-align: middle;\n",
       "    }\n",
       "\n",
       "    .dataframe tbody tr th {\n",
       "        vertical-align: top;\n",
       "    }\n",
       "\n",
       "    .dataframe thead th {\n",
       "        text-align: right;\n",
       "    }\n",
       "</style>\n",
       "<table border=\"1\" class=\"dataframe\">\n",
       "  <thead>\n",
       "    <tr style=\"text-align: right;\">\n",
       "      <th></th>\n",
       "      <th>diagonal</th>\n",
       "      <th>height_left</th>\n",
       "      <th>height_right</th>\n",
       "      <th>margin_low</th>\n",
       "      <th>margin_up</th>\n",
       "      <th>length</th>\n",
       "    </tr>\n",
       "  </thead>\n",
       "  <tbody>\n",
       "    <tr>\n",
       "      <th>0</th>\n",
       "      <td>171.81</td>\n",
       "      <td>104.86</td>\n",
       "      <td>104.95</td>\n",
       "      <td>4.520000</td>\n",
       "      <td>2.89</td>\n",
       "      <td>112.83</td>\n",
       "    </tr>\n",
       "    <tr>\n",
       "      <th>1</th>\n",
       "      <td>171.46</td>\n",
       "      <td>103.36</td>\n",
       "      <td>103.66</td>\n",
       "      <td>3.770000</td>\n",
       "      <td>2.99</td>\n",
       "      <td>113.09</td>\n",
       "    </tr>\n",
       "    <tr>\n",
       "      <th>2</th>\n",
       "      <td>172.69</td>\n",
       "      <td>104.48</td>\n",
       "      <td>103.50</td>\n",
       "      <td>4.400000</td>\n",
       "      <td>2.94</td>\n",
       "      <td>113.16</td>\n",
       "    </tr>\n",
       "    <tr>\n",
       "      <th>3</th>\n",
       "      <td>171.36</td>\n",
       "      <td>103.91</td>\n",
       "      <td>103.94</td>\n",
       "      <td>3.620000</td>\n",
       "      <td>3.01</td>\n",
       "      <td>113.51</td>\n",
       "    </tr>\n",
       "    <tr>\n",
       "      <th>4</th>\n",
       "      <td>171.73</td>\n",
       "      <td>104.28</td>\n",
       "      <td>103.46</td>\n",
       "      <td>4.040000</td>\n",
       "      <td>3.48</td>\n",
       "      <td>112.54</td>\n",
       "    </tr>\n",
       "    <tr>\n",
       "      <th>...</th>\n",
       "      <td>...</td>\n",
       "      <td>...</td>\n",
       "      <td>...</td>\n",
       "      <td>...</td>\n",
       "      <td>...</td>\n",
       "      <td>...</td>\n",
       "    </tr>\n",
       "    <tr>\n",
       "      <th>1303</th>\n",
       "      <td>172.17</td>\n",
       "      <td>104.49</td>\n",
       "      <td>103.76</td>\n",
       "      <td>5.012429</td>\n",
       "      <td>2.93</td>\n",
       "      <td>111.21</td>\n",
       "    </tr>\n",
       "    <tr>\n",
       "      <th>1315</th>\n",
       "      <td>172.08</td>\n",
       "      <td>104.15</td>\n",
       "      <td>104.17</td>\n",
       "      <td>4.770806</td>\n",
       "      <td>3.40</td>\n",
       "      <td>112.29</td>\n",
       "    </tr>\n",
       "    <tr>\n",
       "      <th>1347</th>\n",
       "      <td>171.72</td>\n",
       "      <td>104.46</td>\n",
       "      <td>104.12</td>\n",
       "      <td>5.676590</td>\n",
       "      <td>3.61</td>\n",
       "      <td>110.31</td>\n",
       "    </tr>\n",
       "    <tr>\n",
       "      <th>1435</th>\n",
       "      <td>172.66</td>\n",
       "      <td>104.33</td>\n",
       "      <td>104.41</td>\n",
       "      <td>5.184526</td>\n",
       "      <td>3.56</td>\n",
       "      <td>111.47</td>\n",
       "    </tr>\n",
       "    <tr>\n",
       "      <th>1438</th>\n",
       "      <td>171.90</td>\n",
       "      <td>104.28</td>\n",
       "      <td>104.29</td>\n",
       "      <td>5.110127</td>\n",
       "      <td>3.24</td>\n",
       "      <td>111.49</td>\n",
       "    </tr>\n",
       "  </tbody>\n",
       "</table>\n",
       "<p>1500 rows × 6 columns</p>\n",
       "</div>"
      ],
      "text/plain": [
       "      diagonal  height_left  height_right  margin_low  margin_up  length\n",
       "0       171.81       104.86        104.95    4.520000       2.89  112.83\n",
       "1       171.46       103.36        103.66    3.770000       2.99  113.09\n",
       "2       172.69       104.48        103.50    4.400000       2.94  113.16\n",
       "3       171.36       103.91        103.94    3.620000       3.01  113.51\n",
       "4       171.73       104.28        103.46    4.040000       3.48  112.54\n",
       "...        ...          ...           ...         ...        ...     ...\n",
       "1303    172.17       104.49        103.76    5.012429       2.93  111.21\n",
       "1315    172.08       104.15        104.17    4.770806       3.40  112.29\n",
       "1347    171.72       104.46        104.12    5.676590       3.61  110.31\n",
       "1435    172.66       104.33        104.41    5.184526       3.56  111.47\n",
       "1438    171.90       104.28        104.29    5.110127       3.24  111.49\n",
       "\n",
       "[1500 rows x 6 columns]"
      ]
     },
     "execution_count": 46,
     "metadata": {},
     "output_type": "execute_result"
    }
   ],
   "source": [
    "X_Gen = df_global_Full.drop(['is_genuine'], axis=1, inplace=False)\n",
    "X_Gen.drop(['Cluster'], axis=1, inplace=True)\n",
    "X_Gen"
   ]
  },
  {
   "cell_type": "code",
   "execution_count": 47,
   "id": "49ca5357",
   "metadata": {
    "id": "49ca5357"
   },
   "outputs": [],
   "source": [
    "#Our training set will hold 80% of the data\n",
    "#and the test set will hold 20% of the data\n",
    "train_X_Gen, test_X_Gen, train_y_Gen, test_y_Gen = train_test_split(X_Gen, y_Gen, test_size=0.20)"
   ]
  },
  {
   "cell_type": "code",
   "execution_count": 48,
   "id": "c912c571",
   "metadata": {
    "id": "c912c571"
   },
   "outputs": [],
   "source": [
    "#Logistic Regression with no special parameters\n",
    "logreg = LogisticRegression()"
   ]
  },
  {
   "cell_type": "code",
   "execution_count": 49,
   "id": "728b1dab",
   "metadata": {
    "id": "728b1dab",
    "outputId": "0b71d0d2-9a58-4d5a-a85d-7b733a7ff1e4"
   },
   "outputs": [
    {
     "data": {
      "text/plain": [
       "LogisticRegression()"
      ]
     },
     "execution_count": 49,
     "metadata": {},
     "output_type": "execute_result"
    }
   ],
   "source": [
    "logreg.fit(train_X_Gen, train_y_Gen)#... while logreg IS labeled"
   ]
  },
  {
   "cell_type": "code",
   "execution_count": 50,
   "id": "a1745f16",
   "metadata": {
    "id": "a1745f16",
    "outputId": "2dcf723a-7599-4d7b-a037-0c8a29a8cb95"
   },
   "outputs": [
    {
     "data": {
      "text/plain": [
       "array([0, 0, 0, 1, 1, 0, 0, 1, 1, 1, 0, 1, 1, 1, 1, 1, 1, 1, 1, 1, 0, 1,\n",
       "       1, 1, 1, 1, 1, 0, 1, 1, 1, 0, 1, 1, 1, 1, 1, 0, 1, 0, 1, 1, 1, 1,\n",
       "       1, 1, 0, 1, 1, 0, 0, 1, 1, 1, 1, 1, 0, 0, 0, 0, 0, 1, 1, 0, 0, 1,\n",
       "       1, 0, 1, 1, 1, 0, 1, 0, 1, 1, 1, 1, 0, 1, 0, 1, 0, 0, 0, 1, 1, 1,\n",
       "       0, 1, 0, 0, 1, 1, 0, 1, 0, 1, 1, 1, 1, 1, 0, 1, 1, 1, 0, 0, 1, 1,\n",
       "       1, 0, 1, 1, 1, 1, 1, 0, 0, 1, 1, 1, 0, 0, 0, 0, 1, 1, 0, 0, 0, 1,\n",
       "       1, 1, 1, 0, 1, 0, 1, 0, 1, 0, 0, 1, 1, 0, 1, 1, 0, 0, 0, 1, 0, 0,\n",
       "       1, 1, 1, 1, 1, 0, 1, 0, 0, 0, 0, 0, 1, 1, 1, 1, 0, 1, 1, 0, 1, 1,\n",
       "       1, 1, 1, 1, 1, 1, 1, 1, 0, 1, 0, 1, 1, 1, 1, 0, 1, 0, 1, 1, 0, 0,\n",
       "       1, 1, 1, 1, 1, 0, 1, 1, 1, 1, 1, 1, 0, 0, 0, 1, 1, 1, 1, 0, 1, 1,\n",
       "       1, 0, 1, 0, 0, 1, 1, 1, 1, 1, 1, 0, 1, 0, 1, 1, 1, 0, 1, 1, 1, 1,\n",
       "       0, 1, 1, 1, 1, 1, 1, 1, 1, 1, 0, 0, 1, 1, 0, 1, 0, 1, 1, 0, 1, 0,\n",
       "       1, 1, 0, 1, 1, 1, 1, 1, 1, 0, 1, 1, 0, 0, 1, 0, 1, 1, 1, 1, 1, 1,\n",
       "       1, 1, 1, 0, 0, 1, 1, 1, 0, 1, 0, 1, 1, 1], dtype=int64)"
      ]
     },
     "execution_count": 50,
     "metadata": {},
     "output_type": "execute_result"
    }
   ],
   "source": [
    "logreg_pred = logreg.predict(test_X_Gen)\n",
    "logreg_pred"
   ]
  },
  {
   "cell_type": "code",
   "execution_count": 51,
   "id": "6f986e07",
   "metadata": {
    "id": "6f986e07",
    "outputId": "0abbe88e-dc50-4427-eaff-bfe878c744d9"
   },
   "outputs": [
    {
     "data": {
      "text/plain": [
       "array([0, 0, 0, 1, 1, 0, 0, 1, 1, 1, 0, 1, 1, 1, 1, 1, 1, 1, 1, 1, 0, 1,\n",
       "       1, 1, 1, 1, 1, 0, 1, 1, 1, 0, 1, 1, 1, 1, 1, 0, 1, 0, 1, 1, 1, 1,\n",
       "       1, 1, 0, 1, 1, 0, 0, 1, 1, 1, 1, 1, 0, 0, 0, 0, 0, 1, 1, 0, 0, 1,\n",
       "       1, 0, 1, 1, 1, 0, 1, 0, 1, 1, 1, 1, 0, 1, 0, 1, 0, 0, 0, 1, 1, 1,\n",
       "       0, 1, 0, 0, 1, 1, 0, 1, 0, 1, 1, 1, 1, 1, 1, 1, 1, 1, 0, 0, 1, 1,\n",
       "       1, 0, 1, 1, 1, 1, 1, 0, 0, 1, 1, 1, 0, 0, 0, 0, 1, 1, 0, 0, 0, 1,\n",
       "       1, 1, 1, 0, 1, 0, 1, 0, 0, 0, 0, 1, 1, 0, 1, 1, 0, 0, 0, 1, 0, 0,\n",
       "       1, 1, 1, 1, 1, 0, 1, 0, 0, 0, 0, 0, 1, 1, 1, 1, 0, 1, 1, 0, 1, 1,\n",
       "       1, 1, 1, 0, 1, 1, 1, 0, 0, 1, 0, 1, 1, 1, 1, 0, 1, 0, 1, 1, 0, 0,\n",
       "       1, 1, 1, 1, 1, 0, 1, 1, 1, 1, 1, 1, 1, 0, 0, 1, 1, 1, 1, 0, 1, 1,\n",
       "       1, 0, 1, 0, 0, 1, 1, 1, 1, 1, 1, 1, 1, 0, 1, 1, 1, 0, 1, 1, 1, 1,\n",
       "       0, 1, 1, 1, 1, 1, 0, 1, 1, 1, 0, 0, 1, 1, 0, 1, 0, 1, 1, 0, 1, 1,\n",
       "       1, 1, 0, 1, 1, 1, 1, 1, 1, 0, 1, 1, 0, 0, 1, 0, 1, 1, 1, 1, 1, 1,\n",
       "       1, 1, 1, 0, 0, 1, 1, 1, 0, 1, 0, 1, 1, 1], dtype=int64)"
      ]
     },
     "execution_count": 51,
     "metadata": {},
     "output_type": "execute_result"
    }
   ],
   "source": [
    "test_y_Gen"
   ]
  },
  {
   "cell_type": "code",
   "execution_count": 52,
   "id": "a36dbb7c",
   "metadata": {
    "id": "a36dbb7c",
    "outputId": "7c6506b1-76ee-4c9e-e1a4-c978507500a7"
   },
   "outputs": [
    {
     "data": {
      "text/plain": [
       "array([[ 95,   4],\n",
       "       [  4, 197]], dtype=int64)"
      ]
     },
     "execution_count": 52,
     "metadata": {},
     "output_type": "execute_result"
    }
   ],
   "source": [
    "matrix_Gen = confusion_matrix(y_true=test_y_Gen, y_pred=logreg_pred)\n",
    "matrix_Gen\n"
   ]
  },
  {
   "cell_type": "code",
   "execution_count": 53,
   "id": "c90273c0",
   "metadata": {
    "id": "c90273c0",
    "outputId": "c66ac70c-2533-4045-9751-7fc9877a93b4",
    "scrolled": true
   },
   "outputs": [
    {
     "data": {
      "text/plain": [
       "array([1, 1, 1, ..., 0, 0, 0], dtype=int64)"
      ]
     },
     "execution_count": 53,
     "metadata": {},
     "output_type": "execute_result"
    }
   ],
   "source": [
    "logreg_pred = logreg.predict(X_Gen)\n",
    "logreg_pred"
   ]
  },
  {
   "cell_type": "markdown",
   "id": "5a11da3f",
   "metadata": {},
   "source": [
    "# Comparaison des Méthodes"
   ]
  },
  {
   "cell_type": "markdown",
   "id": "70e3bc51",
   "metadata": {},
   "source": [
    "## Regression Logistique"
   ]
  },
  {
   "cell_type": "code",
   "execution_count": 54,
   "id": "6c9582ef",
   "metadata": {
    "id": "6c9582ef",
    "outputId": "6d3999de-8201-4799-b9f0-1bc30fa394cd",
    "scrolled": false
   },
   "outputs": [
    {
     "data": {
      "text/plain": [
       "array([[458,  42],\n",
       "       [ 29, 971]], dtype=int64)"
      ]
     },
     "execution_count": 54,
     "metadata": {},
     "output_type": "execute_result"
    }
   ],
   "source": [
    "matrix_Gen = confusion_matrix(y_true=y_Gen, y_pred=logreg_pred)\n",
    "matrix_Gen # Performance de la regression logistique"
   ]
  },
  {
   "cell_type": "code",
   "execution_count": 55,
   "id": "db6aaaa8",
   "metadata": {
    "scrolled": true
   },
   "outputs": [
    {
     "data": {
      "image/png": "[encoded data removed]",
      "text/plain": [
       "<Figure size 432x288 with 2 Axes>"
      ]
     },
     "metadata": {
      "needs_background": "light"
     },
     "output_type": "display_data"
    }
   ],
   "source": [
    "disp = ConfusionMatrixDisplay(confusion_matrix=matrix_Gen)\n",
    "disp.plot()\n",
    "\n",
    "plt.show()"
   ]
  },
  {
   "cell_type": "markdown",
   "id": "eb7e139f",
   "metadata": {},
   "source": [
    "True Label => is genuine\n",
    "predicted Label => Résultat Cluster"
   ]
  },
  {
   "cell_type": "markdown",
   "id": "5e9588c0",
   "metadata": {},
   "source": [
    "## K-Means"
   ]
  },
  {
   "cell_type": "code",
   "execution_count": 56,
   "id": "8ac94bc6",
   "metadata": {
    "id": "8ac94bc6",
    "outputId": "94d00e81-5dbd-464a-ec58-4bf6e446704f",
    "scrolled": true
   },
   "outputs": [
    {
     "data": {
      "text/plain": [
       "array([[481,  19],\n",
       "       [  2, 998]], dtype=int64)"
      ]
     },
     "execution_count": 56,
     "metadata": {},
     "output_type": "execute_result"
    }
   ],
   "source": [
    "matrix #Performance du k-mean"
   ]
  },
  {
   "cell_type": "code",
   "execution_count": 57,
   "id": "61fe9f7f",
   "metadata": {},
   "outputs": [
    {
     "data": {
      "image/png": "[encoded data removed]",
      "text/plain": [
       "<Figure size 432x288 with 2 Axes>"
      ]
     },
     "metadata": {
      "needs_background": "light"
     },
     "output_type": "display_data"
    }
   ],
   "source": [
    "disp = ConfusionMatrixDisplay(confusion_matrix=matrix)\n",
    "disp.plot()\n",
    "\n",
    "plt.show()"
   ]
  },
  {
   "cell_type": "markdown",
   "id": "f90bbac8",
   "metadata": {},
   "source": [
    "# Utilisation du modèle"
   ]
  },
  {
   "cell_type": "code",
   "execution_count": 58,
   "id": "a8371f8a",
   "metadata": {
    "scrolled": false
   },
   "outputs": [
    {
     "data": {
      "text/html": [
       "<div>\n",
       "<style scoped>\n",
       "    .dataframe tbody tr th:only-of-type {\n",
       "        vertical-align: middle;\n",
       "    }\n",
       "\n",
       "    .dataframe tbody tr th {\n",
       "        vertical-align: top;\n",
       "    }\n",
       "\n",
       "    .dataframe thead th {\n",
       "        text-align: right;\n",
       "    }\n",
       "</style>\n",
       "<table border=\"1\" class=\"dataframe\">\n",
       "  <thead>\n",
       "    <tr style=\"text-align: right;\">\n",
       "      <th></th>\n",
       "      <th>diagonal</th>\n",
       "      <th>height_left</th>\n",
       "      <th>height_right</th>\n",
       "      <th>margin_low</th>\n",
       "      <th>margin_up</th>\n",
       "      <th>length</th>\n",
       "      <th>Proba_1</th>\n",
       "      <th>Proba_2</th>\n",
       "      <th>Score_Reg_Log</th>\n",
       "    </tr>\n",
       "  </thead>\n",
       "  <tbody>\n",
       "    <tr>\n",
       "      <th>0</th>\n",
       "      <td>172.09</td>\n",
       "      <td>103.95</td>\n",
       "      <td>103.73</td>\n",
       "      <td>4.39</td>\n",
       "      <td>3.09</td>\n",
       "      <td>113.19</td>\n",
       "      <td>0.070207</td>\n",
       "      <td>0.929793</td>\n",
       "      <td>1</td>\n",
       "    </tr>\n",
       "    <tr>\n",
       "      <th>1</th>\n",
       "      <td>171.52</td>\n",
       "      <td>104.17</td>\n",
       "      <td>104.03</td>\n",
       "      <td>5.27</td>\n",
       "      <td>3.16</td>\n",
       "      <td>111.82</td>\n",
       "      <td>0.878879</td>\n",
       "      <td>0.121121</td>\n",
       "      <td>0</td>\n",
       "    </tr>\n",
       "    <tr>\n",
       "      <th>2</th>\n",
       "      <td>171.78</td>\n",
       "      <td>103.80</td>\n",
       "      <td>103.75</td>\n",
       "      <td>3.81</td>\n",
       "      <td>3.24</td>\n",
       "      <td>113.39</td>\n",
       "      <td>0.022620</td>\n",
       "      <td>0.977380</td>\n",
       "      <td>1</td>\n",
       "    </tr>\n",
       "    <tr>\n",
       "      <th>3</th>\n",
       "      <td>172.02</td>\n",
       "      <td>104.08</td>\n",
       "      <td>103.99</td>\n",
       "      <td>5.57</td>\n",
       "      <td>3.30</td>\n",
       "      <td>111.10</td>\n",
       "      <td>0.981888</td>\n",
       "      <td>0.018112</td>\n",
       "      <td>0</td>\n",
       "    </tr>\n",
       "    <tr>\n",
       "      <th>4</th>\n",
       "      <td>171.79</td>\n",
       "      <td>104.34</td>\n",
       "      <td>104.37</td>\n",
       "      <td>5.00</td>\n",
       "      <td>3.07</td>\n",
       "      <td>111.87</td>\n",
       "      <td>0.834892</td>\n",
       "      <td>0.165108</td>\n",
       "      <td>0</td>\n",
       "    </tr>\n",
       "  </tbody>\n",
       "</table>\n",
       "</div>"
      ],
      "text/plain": [
       "   diagonal  height_left  height_right  margin_low  margin_up  length  \\\n",
       "0    172.09       103.95        103.73        4.39       3.09  113.19   \n",
       "1    171.52       104.17        104.03        5.27       3.16  111.82   \n",
       "2    171.78       103.80        103.75        3.81       3.24  113.39   \n",
       "3    172.02       104.08        103.99        5.57       3.30  111.10   \n",
       "4    171.79       104.34        104.37        5.00       3.07  111.87   \n",
       "\n",
       "    Proba_1   Proba_2  Score_Reg_Log  \n",
       "0  0.070207  0.929793              1  \n",
       "1  0.878879  0.121121              0  \n",
       "2  0.022620  0.977380              1  \n",
       "3  0.981888  0.018112              0  \n",
       "4  0.834892  0.165108              0  "
      ]
     },
     "execution_count": 58,
     "metadata": {},
     "output_type": "execute_result"
    }
   ],
   "source": [
    "#Prédire les billets de production avec la regression logistique\n",
    "df_test = pd.read_csv('billets_test.csv', sep=\",\", decimal=\".\", header=0)\n",
    "\n",
    "df_test = df_test.drop([\"id\"], axis=1)\n",
    "df_test[[\"Proba_1\",\"Proba_2\"]] = logreg.predict_proba(df_test)\n",
    "df_test[\"Score_Reg_Log\"] = logreg.predict(df_test[[\"diagonal\",\"height_left\",\"height_right\",\"margin_low\",\"margin_up\",\"length\"]])\n",
    "\n",
    "df_test"
   ]
  }
 ],
 "metadata": {
  "colab": {
   "provenance": []
  },
  "kernelspec": {
   "display_name": "Python 3 (ipykernel)",
   "language": "python",
   "name": "python3"
  },
  "language_info": {
   "codemirror_mode": {
    "name": "ipython",
    "version": 3
   },
   "file_extension": ".py",
   "mimetype": "text/x-python",
   "name": "python",
   "nbconvert_exporter": "python",
   "pygments_lexer": "ipython3",
   "version": "3.9.7"
  }
 },
 "nbformat": 4,
 "nbformat_minor": 5
}
